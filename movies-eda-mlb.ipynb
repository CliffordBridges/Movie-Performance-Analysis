{
 "cells": [
  {
   "cell_type": "code",
   "execution_count": 1,
   "metadata": {},
   "outputs": [],
   "source": [
    "import pandas as pd\n",
    "import numpy as np \n",
    "import matplotlib.pyplot as plt\n",
    "import seaborn as sns"
   ]
  },
  {
   "cell_type": "code",
   "execution_count": 32,
   "metadata": {},
   "outputs": [],
   "source": [
    "# Import Datasets\n",
    "imdb_names = pd.read_csv('data/imdb_names_update', index_col='tconst')\n",
    "imdb_titles = pd.read_csv('data/imdb_titles', index_col='tconst')\n",
    "tn_budgets = pd.read_csv('data/tn_movies_bud_update')\n",
    "imdb_ratings = pd.read_csv('data/imdb.title.ratings.csv.gz')"
   ]
  },
  {
   "cell_type": "code",
   "execution_count": 34,
   "metadata": {},
   "outputs": [],
   "source": [
    "# Drop 'unnamed: 0' column from tn_movie_budget dataframe\n",
    "tn_budgets.drop('Unnamed: 0', axis=1, inplace=True)"
   ]
  },
  {
   "cell_type": "code",
   "execution_count": 5,
   "metadata": {},
   "outputs": [
    {
     "data": {
      "text/html": [
       "<div>\n",
       "<style scoped>\n",
       "    .dataframe tbody tr th:only-of-type {\n",
       "        vertical-align: middle;\n",
       "    }\n",
       "\n",
       "    .dataframe tbody tr th {\n",
       "        vertical-align: top;\n",
       "    }\n",
       "\n",
       "    .dataframe thead th {\n",
       "        text-align: right;\n",
       "    }\n",
       "</style>\n",
       "<table border=\"1\" class=\"dataframe\">\n",
       "  <thead>\n",
       "    <tr style=\"text-align: right;\">\n",
       "      <th></th>\n",
       "      <th>primary_name</th>\n",
       "      <th>nconst</th>\n",
       "      <th>primary_profession</th>\n",
       "    </tr>\n",
       "    <tr>\n",
       "      <th>tconst</th>\n",
       "      <th></th>\n",
       "      <th></th>\n",
       "      <th></th>\n",
       "    </tr>\n",
       "  </thead>\n",
       "  <tbody>\n",
       "    <tr>\n",
       "      <th>tt0837562</th>\n",
       "      <td>Mary Ellen Bauder</td>\n",
       "      <td>nm0061671</td>\n",
       "      <td>miscellaneous,production_manager,producer</td>\n",
       "    </tr>\n",
       "    <tr>\n",
       "      <th>tt0896534</th>\n",
       "      <td>Joseph Bauer</td>\n",
       "      <td>nm0061865</td>\n",
       "      <td>composer,music_department,sound_department</td>\n",
       "    </tr>\n",
       "    <tr>\n",
       "      <th>tt1470654</th>\n",
       "      <td>Bruce Baum</td>\n",
       "      <td>nm0062070</td>\n",
       "      <td>miscellaneous,actor,writer</td>\n",
       "    </tr>\n",
       "    <tr>\n",
       "      <th>tt0114371</th>\n",
       "      <td>Axel Baumann</td>\n",
       "      <td>nm0062195</td>\n",
       "      <td>camera_department,cinematographer,art_department</td>\n",
       "    </tr>\n",
       "    <tr>\n",
       "      <th>tt0452644</th>\n",
       "      <td>Pete Baxter</td>\n",
       "      <td>nm0062798</td>\n",
       "      <td>production_designer,art_department,set_decorator</td>\n",
       "    </tr>\n",
       "  </tbody>\n",
       "</table>\n",
       "</div>"
      ],
      "text/plain": [
       "                primary_name     nconst  \\\n",
       "tconst                                    \n",
       "tt0837562  Mary Ellen Bauder  nm0061671   \n",
       "tt0896534       Joseph Bauer  nm0061865   \n",
       "tt1470654         Bruce Baum  nm0062070   \n",
       "tt0114371       Axel Baumann  nm0062195   \n",
       "tt0452644        Pete Baxter  nm0062798   \n",
       "\n",
       "                                         primary_profession  \n",
       "tconst                                                       \n",
       "tt0837562         miscellaneous,production_manager,producer  \n",
       "tt0896534        composer,music_department,sound_department  \n",
       "tt1470654                        miscellaneous,actor,writer  \n",
       "tt0114371  camera_department,cinematographer,art_department  \n",
       "tt0452644  production_designer,art_department,set_decorator  "
      ]
     },
     "execution_count": 5,
     "metadata": {},
     "output_type": "execute_result"
    }
   ],
   "source": [
    "imdb_names.head()"
   ]
  },
  {
   "cell_type": "code",
   "execution_count": 43,
   "metadata": {},
   "outputs": [
    {
     "name": "stdout",
     "output_type": "stream",
     "text": [
      "<class 'pandas.core.frame.DataFrame'>\n",
      "Index: 1580490 entries, tt0837562 to tt4921464\n",
      "Data columns (total 3 columns):\n",
      "primary_name          1580490 non-null object\n",
      "nconst                1580490 non-null object\n",
      "primary_profession    1580490 non-null object\n",
      "dtypes: object(3)\n",
      "memory usage: 48.2+ MB\n"
     ]
    }
   ],
   "source": [
    "imdb_names.info()"
   ]
  },
  {
   "cell_type": "code",
   "execution_count": 45,
   "metadata": {},
   "outputs": [
    {
     "data": {
      "text/plain": [
       "1045353"
      ]
     },
     "execution_count": 45,
     "metadata": {},
     "output_type": "execute_result"
    }
   ],
   "source": [
    "imdb_names.nconst.duplicated().sum()"
   ]
  },
  {
   "cell_type": "code",
   "execution_count": 6,
   "metadata": {
    "scrolled": true
   },
   "outputs": [
    {
     "data": {
      "text/html": [
       "<div>\n",
       "<style scoped>\n",
       "    .dataframe tbody tr th:only-of-type {\n",
       "        vertical-align: middle;\n",
       "    }\n",
       "\n",
       "    .dataframe tbody tr th {\n",
       "        vertical-align: top;\n",
       "    }\n",
       "\n",
       "    .dataframe thead th {\n",
       "        text-align: right;\n",
       "    }\n",
       "</style>\n",
       "<table border=\"1\" class=\"dataframe\">\n",
       "  <thead>\n",
       "    <tr style=\"text-align: right;\">\n",
       "      <th></th>\n",
       "      <th>primary_title</th>\n",
       "      <th>original_title</th>\n",
       "      <th>start_year</th>\n",
       "      <th>runtime_minutes</th>\n",
       "      <th>genres</th>\n",
       "      <th>genres_1</th>\n",
       "      <th>genres_2</th>\n",
       "      <th>genres_3</th>\n",
       "    </tr>\n",
       "    <tr>\n",
       "      <th>tconst</th>\n",
       "      <th></th>\n",
       "      <th></th>\n",
       "      <th></th>\n",
       "      <th></th>\n",
       "      <th></th>\n",
       "      <th></th>\n",
       "      <th></th>\n",
       "      <th></th>\n",
       "    </tr>\n",
       "  </thead>\n",
       "  <tbody>\n",
       "    <tr>\n",
       "      <th>tt0063540</th>\n",
       "      <td>Sunghursh</td>\n",
       "      <td>Sunghursh</td>\n",
       "      <td>2013</td>\n",
       "      <td>175.0</td>\n",
       "      <td>Action,Crime,Drama</td>\n",
       "      <td>Action</td>\n",
       "      <td>Crime</td>\n",
       "      <td>Drama</td>\n",
       "    </tr>\n",
       "    <tr>\n",
       "      <th>tt0069049</th>\n",
       "      <td>The Other Side of the Wind</td>\n",
       "      <td>The Other Side of the Wind</td>\n",
       "      <td>2018</td>\n",
       "      <td>122.0</td>\n",
       "      <td>Drama</td>\n",
       "      <td>Drama</td>\n",
       "      <td>NaN</td>\n",
       "      <td>NaN</td>\n",
       "    </tr>\n",
       "    <tr>\n",
       "      <th>tt0069204</th>\n",
       "      <td>Sabse Bada Sukh</td>\n",
       "      <td>Sabse Bada Sukh</td>\n",
       "      <td>2018</td>\n",
       "      <td>NaN</td>\n",
       "      <td>Comedy,Drama</td>\n",
       "      <td>Comedy</td>\n",
       "      <td>Drama</td>\n",
       "      <td>NaN</td>\n",
       "    </tr>\n",
       "    <tr>\n",
       "      <th>tt0100275</th>\n",
       "      <td>The Wandering Soap Opera</td>\n",
       "      <td>La Telenovela Errante</td>\n",
       "      <td>2017</td>\n",
       "      <td>80.0</td>\n",
       "      <td>Comedy,Drama,Fantasy</td>\n",
       "      <td>Comedy</td>\n",
       "      <td>Drama</td>\n",
       "      <td>Fantasy</td>\n",
       "    </tr>\n",
       "    <tr>\n",
       "      <th>tt0111414</th>\n",
       "      <td>A Thin Life</td>\n",
       "      <td>A Thin Life</td>\n",
       "      <td>2018</td>\n",
       "      <td>75.0</td>\n",
       "      <td>Comedy</td>\n",
       "      <td>Comedy</td>\n",
       "      <td>NaN</td>\n",
       "      <td>NaN</td>\n",
       "    </tr>\n",
       "  </tbody>\n",
       "</table>\n",
       "</div>"
      ],
      "text/plain": [
       "                        primary_title              original_title  start_year  \\\n",
       "tconst                                                                          \n",
       "tt0063540                   Sunghursh                   Sunghursh        2013   \n",
       "tt0069049  The Other Side of the Wind  The Other Side of the Wind        2018   \n",
       "tt0069204             Sabse Bada Sukh             Sabse Bada Sukh        2018   \n",
       "tt0100275    The Wandering Soap Opera       La Telenovela Errante        2017   \n",
       "tt0111414                 A Thin Life                 A Thin Life        2018   \n",
       "\n",
       "           runtime_minutes                genres genres_1 genres_2 genres_3  \n",
       "tconst                                                                       \n",
       "tt0063540            175.0    Action,Crime,Drama   Action    Crime    Drama  \n",
       "tt0069049            122.0                 Drama    Drama      NaN      NaN  \n",
       "tt0069204              NaN          Comedy,Drama   Comedy    Drama      NaN  \n",
       "tt0100275             80.0  Comedy,Drama,Fantasy   Comedy    Drama  Fantasy  \n",
       "tt0111414             75.0                Comedy   Comedy      NaN      NaN  "
      ]
     },
     "execution_count": 6,
     "metadata": {},
     "output_type": "execute_result"
    }
   ],
   "source": [
    "imdb_titles.head()"
   ]
  },
  {
   "cell_type": "code",
   "execution_count": 46,
   "metadata": {},
   "outputs": [
    {
     "name": "stdout",
     "output_type": "stream",
     "text": [
      "<class 'pandas.core.frame.DataFrame'>\n",
      "Index: 136702 entries, tt0063540 to tt9916754\n",
      "Data columns (total 8 columns):\n",
      "primary_title      136702 non-null object\n",
      "original_title     136683 non-null object\n",
      "start_year         136702 non-null int64\n",
      "runtime_minutes    109815 non-null float64\n",
      "genres             131664 non-null object\n",
      "genres_1           131664 non-null object\n",
      "genres_2           56456 non-null object\n",
      "genres_3           28070 non-null object\n",
      "dtypes: float64(1), int64(1), object(6)\n",
      "memory usage: 9.4+ MB\n"
     ]
    }
   ],
   "source": [
    "imdb_titles.info()"
   ]
  },
  {
   "cell_type": "code",
   "execution_count": 51,
   "metadata": {},
   "outputs": [
    {
     "data": {
      "text/plain": [
       "1968"
      ]
     },
     "execution_count": 51,
     "metadata": {},
     "output_type": "execute_result"
    }
   ],
   "source": [
    "imdb_titles.loc[:,['primary_title','start_year']].duplicated().sum()"
   ]
  },
  {
   "cell_type": "markdown",
   "metadata": {},
   "source": [
    "Same title **and** same year! \n",
    "Naw, these must be duplicates for real. \n",
    "Let's ```loc``` and see."
   ]
  },
  {
   "cell_type": "code",
   "execution_count": 52,
   "metadata": {},
   "outputs": [
    {
     "data": {
      "text/plain": [
       "99"
      ]
     },
     "execution_count": 52,
     "metadata": {},
     "output_type": "execute_result"
    }
   ],
   "source": [
    "imdb_titles.duplicated().sum()"
   ]
  },
  {
   "cell_type": "markdown",
   "metadata": {},
   "source": [
    "Hmm, these are not clean data sets at all. \n",
    "We'll have to come back to this later."
   ]
  },
  {
   "cell_type": "code",
   "execution_count": 36,
   "metadata": {
    "scrolled": true
   },
   "outputs": [
    {
     "data": {
      "text/html": [
       "<div>\n",
       "<style scoped>\n",
       "    .dataframe tbody tr th:only-of-type {\n",
       "        vertical-align: middle;\n",
       "    }\n",
       "\n",
       "    .dataframe tbody tr th {\n",
       "        vertical-align: top;\n",
       "    }\n",
       "\n",
       "    .dataframe thead th {\n",
       "        text-align: right;\n",
       "    }\n",
       "</style>\n",
       "<table border=\"1\" class=\"dataframe\">\n",
       "  <thead>\n",
       "    <tr style=\"text-align: right;\">\n",
       "      <th></th>\n",
       "      <th>id</th>\n",
       "      <th>release_date</th>\n",
       "      <th>movie</th>\n",
       "      <th>production_budget</th>\n",
       "      <th>domestic_gross</th>\n",
       "      <th>worldwide_gross</th>\n",
       "      <th>remade</th>\n",
       "      <th>international_gross</th>\n",
       "      <th>online_release</th>\n",
       "      <th>release_year</th>\n",
       "    </tr>\n",
       "  </thead>\n",
       "  <tbody>\n",
       "    <tr>\n",
       "      <th>0</th>\n",
       "      <td>2</td>\n",
       "      <td>2011-05-20</td>\n",
       "      <td>Pirates of the Caribbean: On Stranger Tides</td>\n",
       "      <td>410600000</td>\n",
       "      <td>241063875</td>\n",
       "      <td>1045663875</td>\n",
       "      <td>False</td>\n",
       "      <td>804600000</td>\n",
       "      <td>False</td>\n",
       "      <td>2011</td>\n",
       "    </tr>\n",
       "    <tr>\n",
       "      <th>1</th>\n",
       "      <td>4</td>\n",
       "      <td>2015-05-01</td>\n",
       "      <td>Avengers: Age of Ultron</td>\n",
       "      <td>330600000</td>\n",
       "      <td>459005868</td>\n",
       "      <td>1403013963</td>\n",
       "      <td>False</td>\n",
       "      <td>944008095</td>\n",
       "      <td>False</td>\n",
       "      <td>2015</td>\n",
       "    </tr>\n",
       "    <tr>\n",
       "      <th>2</th>\n",
       "      <td>5</td>\n",
       "      <td>2017-12-15</td>\n",
       "      <td>Star Wars Ep. VIII: The Last Jedi</td>\n",
       "      <td>317000000</td>\n",
       "      <td>620181382</td>\n",
       "      <td>1316721747</td>\n",
       "      <td>False</td>\n",
       "      <td>696540365</td>\n",
       "      <td>False</td>\n",
       "      <td>2017</td>\n",
       "    </tr>\n",
       "    <tr>\n",
       "      <th>3</th>\n",
       "      <td>6</td>\n",
       "      <td>2015-12-18</td>\n",
       "      <td>Star Wars Ep. VII: The Force Awakens</td>\n",
       "      <td>306000000</td>\n",
       "      <td>936662225</td>\n",
       "      <td>2053311220</td>\n",
       "      <td>False</td>\n",
       "      <td>1116648995</td>\n",
       "      <td>False</td>\n",
       "      <td>2015</td>\n",
       "    </tr>\n",
       "    <tr>\n",
       "      <th>4</th>\n",
       "      <td>7</td>\n",
       "      <td>2018-04-27</td>\n",
       "      <td>Avengers: Infinity War</td>\n",
       "      <td>300000000</td>\n",
       "      <td>678815482</td>\n",
       "      <td>2048134200</td>\n",
       "      <td>False</td>\n",
       "      <td>1369318718</td>\n",
       "      <td>False</td>\n",
       "      <td>2018</td>\n",
       "    </tr>\n",
       "  </tbody>\n",
       "</table>\n",
       "</div>"
      ],
      "text/plain": [
       "   id release_date                                        movie  \\\n",
       "0   2   2011-05-20  Pirates of the Caribbean: On Stranger Tides   \n",
       "1   4   2015-05-01                      Avengers: Age of Ultron   \n",
       "2   5   2017-12-15            Star Wars Ep. VIII: The Last Jedi   \n",
       "3   6   2015-12-18         Star Wars Ep. VII: The Force Awakens   \n",
       "4   7   2018-04-27                       Avengers: Infinity War   \n",
       "\n",
       "   production_budget  domestic_gross  worldwide_gross  remade  \\\n",
       "0          410600000       241063875       1045663875   False   \n",
       "1          330600000       459005868       1403013963   False   \n",
       "2          317000000       620181382       1316721747   False   \n",
       "3          306000000       936662225       2053311220   False   \n",
       "4          300000000       678815482       2048134200   False   \n",
       "\n",
       "   international_gross  online_release  release_year  \n",
       "0            804600000           False          2011  \n",
       "1            944008095           False          2015  \n",
       "2            696540365           False          2017  \n",
       "3           1116648995           False          2015  \n",
       "4           1369318718           False          2018  "
      ]
     },
     "execution_count": 36,
     "metadata": {},
     "output_type": "execute_result"
    }
   ],
   "source": [
    "tn_budgets.head()"
   ]
  },
  {
   "cell_type": "code",
   "execution_count": 53,
   "metadata": {},
   "outputs": [
    {
     "data": {
      "text/html": [
       "<div>\n",
       "<style scoped>\n",
       "    .dataframe tbody tr th:only-of-type {\n",
       "        vertical-align: middle;\n",
       "    }\n",
       "\n",
       "    .dataframe tbody tr th {\n",
       "        vertical-align: top;\n",
       "    }\n",
       "\n",
       "    .dataframe thead th {\n",
       "        text-align: right;\n",
       "    }\n",
       "</style>\n",
       "<table border=\"1\" class=\"dataframe\">\n",
       "  <thead>\n",
       "    <tr style=\"text-align: right;\">\n",
       "      <th></th>\n",
       "      <th>tconst</th>\n",
       "      <th>averagerating</th>\n",
       "      <th>numvotes</th>\n",
       "    </tr>\n",
       "  </thead>\n",
       "  <tbody>\n",
       "    <tr>\n",
       "      <th>0</th>\n",
       "      <td>tt10356526</td>\n",
       "      <td>8.3</td>\n",
       "      <td>31</td>\n",
       "    </tr>\n",
       "    <tr>\n",
       "      <th>1</th>\n",
       "      <td>tt10384606</td>\n",
       "      <td>8.9</td>\n",
       "      <td>559</td>\n",
       "    </tr>\n",
       "    <tr>\n",
       "      <th>2</th>\n",
       "      <td>tt1042974</td>\n",
       "      <td>6.4</td>\n",
       "      <td>20</td>\n",
       "    </tr>\n",
       "    <tr>\n",
       "      <th>3</th>\n",
       "      <td>tt1043726</td>\n",
       "      <td>4.2</td>\n",
       "      <td>50352</td>\n",
       "    </tr>\n",
       "    <tr>\n",
       "      <th>4</th>\n",
       "      <td>tt1060240</td>\n",
       "      <td>6.5</td>\n",
       "      <td>21</td>\n",
       "    </tr>\n",
       "  </tbody>\n",
       "</table>\n",
       "</div>"
      ],
      "text/plain": [
       "       tconst  averagerating  numvotes\n",
       "0  tt10356526            8.3        31\n",
       "1  tt10384606            8.9       559\n",
       "2   tt1042974            6.4        20\n",
       "3   tt1043726            4.2     50352\n",
       "4   tt1060240            6.5        21"
      ]
     },
     "execution_count": 53,
     "metadata": {},
     "output_type": "execute_result"
    }
   ],
   "source": [
    "imdb_ratings.head()"
   ]
  },
  {
   "cell_type": "markdown",
   "metadata": {},
   "source": [
    "### 1. Join Dataframes "
   ]
  },
  {
   "cell_type": "markdown",
   "metadata": {},
   "source": [
    "Join imdb_titles and imdb_names dataframes"
   ]
  },
  {
   "cell_type": "code",
   "execution_count": 8,
   "metadata": {},
   "outputs": [
    {
     "data": {
      "text/html": [
       "<div>\n",
       "<style scoped>\n",
       "    .dataframe tbody tr th:only-of-type {\n",
       "        vertical-align: middle;\n",
       "    }\n",
       "\n",
       "    .dataframe tbody tr th {\n",
       "        vertical-align: top;\n",
       "    }\n",
       "\n",
       "    .dataframe thead th {\n",
       "        text-align: right;\n",
       "    }\n",
       "</style>\n",
       "<table border=\"1\" class=\"dataframe\">\n",
       "  <thead>\n",
       "    <tr style=\"text-align: right;\">\n",
       "      <th></th>\n",
       "      <th>primary_title</th>\n",
       "      <th>original_title</th>\n",
       "      <th>start_year</th>\n",
       "      <th>runtime_minutes</th>\n",
       "      <th>genres</th>\n",
       "      <th>genres_1</th>\n",
       "      <th>genres_2</th>\n",
       "      <th>genres_3</th>\n",
       "      <th>primary_name</th>\n",
       "      <th>nconst</th>\n",
       "      <th>primary_profession</th>\n",
       "    </tr>\n",
       "    <tr>\n",
       "      <th>tconst</th>\n",
       "      <th></th>\n",
       "      <th></th>\n",
       "      <th></th>\n",
       "      <th></th>\n",
       "      <th></th>\n",
       "      <th></th>\n",
       "      <th></th>\n",
       "      <th></th>\n",
       "      <th></th>\n",
       "      <th></th>\n",
       "      <th></th>\n",
       "    </tr>\n",
       "  </thead>\n",
       "  <tbody>\n",
       "    <tr>\n",
       "      <th>tt0063540</th>\n",
       "      <td>Sunghursh</td>\n",
       "      <td>Sunghursh</td>\n",
       "      <td>2013</td>\n",
       "      <td>175.0</td>\n",
       "      <td>Action,Crime,Drama</td>\n",
       "      <td>Action</td>\n",
       "      <td>Crime</td>\n",
       "      <td>Drama</td>\n",
       "      <td>Mahasweta Devi</td>\n",
       "      <td>nm1194313</td>\n",
       "      <td>writer</td>\n",
       "    </tr>\n",
       "    <tr>\n",
       "      <th>tt0063540</th>\n",
       "      <td>Sunghursh</td>\n",
       "      <td>Sunghursh</td>\n",
       "      <td>2013</td>\n",
       "      <td>175.0</td>\n",
       "      <td>Action,Crime,Drama</td>\n",
       "      <td>Action</td>\n",
       "      <td>Crime</td>\n",
       "      <td>Drama</td>\n",
       "      <td>Anjana Rawail</td>\n",
       "      <td>nm1391276</td>\n",
       "      <td>writer,costume_designer</td>\n",
       "    </tr>\n",
       "    <tr>\n",
       "      <th>tt0069049</th>\n",
       "      <td>The Other Side of the Wind</td>\n",
       "      <td>The Other Side of the Wind</td>\n",
       "      <td>2018</td>\n",
       "      <td>122.0</td>\n",
       "      <td>Drama</td>\n",
       "      <td>Drama</td>\n",
       "      <td>NaN</td>\n",
       "      <td>NaN</td>\n",
       "      <td>Oja Kodar</td>\n",
       "      <td>nm0462648</td>\n",
       "      <td>actress,writer,director</td>\n",
       "    </tr>\n",
       "    <tr>\n",
       "      <th>tt0069049</th>\n",
       "      <td>The Other Side of the Wind</td>\n",
       "      <td>The Other Side of the Wind</td>\n",
       "      <td>2018</td>\n",
       "      <td>122.0</td>\n",
       "      <td>Drama</td>\n",
       "      <td>Drama</td>\n",
       "      <td>NaN</td>\n",
       "      <td>NaN</td>\n",
       "      <td>Tom Callaway</td>\n",
       "      <td>nm1152466</td>\n",
       "      <td>cinematographer,camera_department</td>\n",
       "    </tr>\n",
       "    <tr>\n",
       "      <th>tt0069049</th>\n",
       "      <td>The Other Side of the Wind</td>\n",
       "      <td>The Other Side of the Wind</td>\n",
       "      <td>2018</td>\n",
       "      <td>122.0</td>\n",
       "      <td>Drama</td>\n",
       "      <td>Drama</td>\n",
       "      <td>NaN</td>\n",
       "      <td>NaN</td>\n",
       "      <td>Dax Phelan</td>\n",
       "      <td>nm3902034</td>\n",
       "      <td>writer,producer,director</td>\n",
       "    </tr>\n",
       "  </tbody>\n",
       "</table>\n",
       "</div>"
      ],
      "text/plain": [
       "                        primary_title              original_title  start_year  \\\n",
       "tconst                                                                          \n",
       "tt0063540                   Sunghursh                   Sunghursh        2013   \n",
       "tt0063540                   Sunghursh                   Sunghursh        2013   \n",
       "tt0069049  The Other Side of the Wind  The Other Side of the Wind        2018   \n",
       "tt0069049  The Other Side of the Wind  The Other Side of the Wind        2018   \n",
       "tt0069049  The Other Side of the Wind  The Other Side of the Wind        2018   \n",
       "\n",
       "           runtime_minutes              genres genres_1 genres_2 genres_3  \\\n",
       "tconst                                                                      \n",
       "tt0063540            175.0  Action,Crime,Drama   Action    Crime    Drama   \n",
       "tt0063540            175.0  Action,Crime,Drama   Action    Crime    Drama   \n",
       "tt0069049            122.0               Drama    Drama      NaN      NaN   \n",
       "tt0069049            122.0               Drama    Drama      NaN      NaN   \n",
       "tt0069049            122.0               Drama    Drama      NaN      NaN   \n",
       "\n",
       "             primary_name     nconst                 primary_profession  \n",
       "tconst                                                                   \n",
       "tt0063540  Mahasweta Devi  nm1194313                             writer  \n",
       "tt0063540   Anjana Rawail  nm1391276            writer,costume_designer  \n",
       "tt0069049       Oja Kodar  nm0462648            actress,writer,director  \n",
       "tt0069049    Tom Callaway  nm1152466  cinematographer,camera_department  \n",
       "tt0069049      Dax Phelan  nm3902034           writer,producer,director  "
      ]
     },
     "execution_count": 8,
     "metadata": {},
     "output_type": "execute_result"
    }
   ],
   "source": [
    "imdb_titles_names = imdb_titles.join(imdb_names, how='inner')\n",
    "imdb_titles_names.head()"
   ]
  },
  {
   "cell_type": "code",
   "execution_count": 9,
   "metadata": {},
   "outputs": [
    {
     "name": "stdout",
     "output_type": "stream",
     "text": [
      "<class 'pandas.core.frame.DataFrame'>\n",
      "Index: 713875 entries, tt0063540 to tt9916754\n",
      "Data columns (total 11 columns):\n",
      "primary_title         713875 non-null object\n",
      "original_title        713875 non-null object\n",
      "start_year            713875 non-null int64\n",
      "runtime_minutes       610442 non-null float64\n",
      "genres                701879 non-null object\n",
      "genres_1              701879 non-null object\n",
      "genres_2              381528 non-null object\n",
      "genres_3              216250 non-null object\n",
      "primary_name          713875 non-null object\n",
      "nconst                713875 non-null object\n",
      "primary_profession    713875 non-null object\n",
      "dtypes: float64(1), int64(1), object(9)\n",
      "memory usage: 65.4+ MB\n"
     ]
    }
   ],
   "source": [
    "imdb_titles_names.info()"
   ]
  },
  {
   "cell_type": "markdown",
   "metadata": {},
   "source": [
    "### 2. Join imdb_titles_names dataframe with imdb_tn_budgets"
   ]
  },
  {
   "cell_type": "code",
   "execution_count": 10,
   "metadata": {},
   "outputs": [],
   "source": [
    "imdb_tn_budgets = imdb_tn_budgets.reset_index()\n",
    "imdb_titles_names = imdb_titles_names.reset_index()"
   ]
  },
  {
   "cell_type": "code",
   "execution_count": 41,
   "metadata": {},
   "outputs": [
    {
     "name": "stdout",
     "output_type": "stream",
     "text": [
      "<class 'pandas.core.frame.DataFrame'>\n",
      "RangeIndex: 713875 entries, 0 to 713874\n",
      "Data columns (total 12 columns):\n",
      "tconst                713875 non-null object\n",
      "primary_title         713875 non-null object\n",
      "original_title        713875 non-null object\n",
      "start_year            713875 non-null int64\n",
      "runtime_minutes       610442 non-null float64\n",
      "genres                701879 non-null object\n",
      "genres_1              701879 non-null object\n",
      "genres_2              381528 non-null object\n",
      "genres_3              216250 non-null object\n",
      "primary_name          713875 non-null object\n",
      "nconst                713875 non-null object\n",
      "primary_profession    713875 non-null object\n",
      "dtypes: float64(1), int64(1), object(10)\n",
      "memory usage: 65.4+ MB\n"
     ]
    }
   ],
   "source": [
    "imdb_titles_names.info()"
   ]
  },
  {
   "cell_type": "code",
   "execution_count": 42,
   "metadata": {},
   "outputs": [
    {
     "data": {
      "text/plain": [
       "587415"
      ]
     },
     "execution_count": 42,
     "metadata": {},
     "output_type": "execute_result"
    }
   ],
   "source": [
    "imdb_titles_names.tconst.duplicated().sum()"
   ]
  },
  {
   "cell_type": "markdown",
   "metadata": {},
   "source": [
    "### Oh no!\n",
    "\n",
    "There are 587,415 duplicated values in the combined data set! \n",
    "I think this is because we separated "
   ]
  },
  {
   "cell_type": "code",
   "execution_count": 37,
   "metadata": {},
   "outputs": [],
   "source": [
    "deduped_titles_names = imdb_titles_names.loc[imdb_titles_names.tconst.duplicated() == False]"
   ]
  },
  {
   "cell_type": "code",
   "execution_count": 39,
   "metadata": {},
   "outputs": [
    {
     "data": {
      "text/plain": [
       "0"
      ]
     },
     "execution_count": 39,
     "metadata": {},
     "output_type": "execute_result"
    }
   ],
   "source": [
    "deduped_titles_names.tconst.duplicated().sum()"
   ]
  },
  {
   "cell_type": "markdown",
   "metadata": {},
   "source": [
    "Let's add in the ratings data too, now that we have a ```tconst``` column."
   ]
  },
  {
   "cell_type": "code",
   "execution_count": 55,
   "metadata": {},
   "outputs": [],
   "source": [
    "titles_names_ratings = pd.merge(deduped_titles_names, imdb_ratings, on='tconst')"
   ]
  },
  {
   "cell_type": "code",
   "execution_count": 60,
   "metadata": {},
   "outputs": [
    {
     "name": "stdout",
     "output_type": "stream",
     "text": [
      "<class 'pandas.core.frame.DataFrame'>\n",
      "Int64Index: 69706 entries, 0 to 69705\n",
      "Data columns (total 14 columns):\n",
      "tconst                69706 non-null object\n",
      "primary_title         69706 non-null object\n",
      "original_title        69706 non-null object\n",
      "start_year            69706 non-null int64\n",
      "runtime_minutes       62857 non-null float64\n",
      "genres                69062 non-null object\n",
      "genres_1              69062 non-null object\n",
      "genres_2              35383 non-null object\n",
      "genres_3              17939 non-null object\n",
      "primary_name          69706 non-null object\n",
      "nconst                69706 non-null object\n",
      "primary_profession    69706 non-null object\n",
      "averagerating         69706 non-null float64\n",
      "numvotes              69706 non-null int64\n",
      "dtypes: float64(2), int64(2), object(10)\n",
      "memory usage: 8.0+ MB\n"
     ]
    }
   ],
   "source": [
    "titles_names_ratings.info()"
   ]
  },
  {
   "cell_type": "markdown",
   "metadata": {},
   "source": [
    "### The Final Merge\n",
    "\n",
    "***\n",
    "First we have to make sure the columns on which we want to merge have matching names."
   ]
  },
  {
   "cell_type": "code",
   "execution_count": 57,
   "metadata": {},
   "outputs": [
    {
     "data": {
      "text/plain": [
       "Index(['tconst', 'primary_title', 'original_title', 'start_year',\n",
       "       'runtime_minutes', 'genres', 'genres_1', 'genres_2', 'genres_3',\n",
       "       'primary_name', 'nconst', 'primary_profession', 'averagerating',\n",
       "       'numvotes'],\n",
       "      dtype='object')"
      ]
     },
     "execution_count": 57,
     "metadata": {},
     "output_type": "execute_result"
    }
   ],
   "source": [
    "titles_names_ratings.columns"
   ]
  },
  {
   "cell_type": "code",
   "execution_count": 19,
   "metadata": {},
   "outputs": [],
   "source": [
    "imdb_tn_budgets = imdb_tn_budgets.rename({'movie':'primary_title'}, axis=1)"
   ]
  },
  {
   "cell_type": "code",
   "execution_count": 20,
   "metadata": {},
   "outputs": [
    {
     "data": {
      "text/plain": [
       "Index(['index', 'id', 'release_date', 'primary_title', 'production_budget',\n",
       "       'domestic_gross', 'worldwide_gross', 'remade', 'international_gross',\n",
       "       'online_release', 'release_year'],\n",
       "      dtype='object')"
      ]
     },
     "execution_count": 20,
     "metadata": {},
     "output_type": "execute_result"
    }
   ],
   "source": [
    "imdb_tn_budgets.columns"
   ]
  },
  {
   "cell_type": "markdown",
   "metadata": {},
   "source": [
    "Okay, now we can merge on ```primary_title```"
   ]
  },
  {
   "cell_type": "code",
   "execution_count": 64,
   "metadata": {},
   "outputs": [],
   "source": [
    "full_merge_attempt = pd.merge(imdb_tn_budgets, titles_names_ratings, on='primary_title')"
   ]
  },
  {
   "cell_type": "code",
   "execution_count": 65,
   "metadata": {},
   "outputs": [
    {
     "data": {
      "text/plain": [
       "Index(['index', 'id', 'release_date', 'primary_title', 'production_budget',\n",
       "       'domestic_gross', 'worldwide_gross', 'remade', 'international_gross',\n",
       "       'online_release', 'release_year', 'tconst', 'original_title',\n",
       "       'start_year', 'runtime_minutes', 'genres', 'genres_1', 'genres_2',\n",
       "       'genres_3', 'primary_name', 'nconst', 'primary_profession',\n",
       "       'averagerating', 'numvotes'],\n",
       "      dtype='object')"
      ]
     },
     "execution_count": 65,
     "metadata": {},
     "output_type": "execute_result"
    }
   ],
   "source": [
    "full_merge_attempt.columns"
   ]
  },
  {
   "cell_type": "code",
   "execution_count": 66,
   "metadata": {},
   "outputs": [
    {
     "data": {
      "text/html": [
       "<div>\n",
       "<style scoped>\n",
       "    .dataframe tbody tr th:only-of-type {\n",
       "        vertical-align: middle;\n",
       "    }\n",
       "\n",
       "    .dataframe tbody tr th {\n",
       "        vertical-align: top;\n",
       "    }\n",
       "\n",
       "    .dataframe thead th {\n",
       "        text-align: right;\n",
       "    }\n",
       "</style>\n",
       "<table border=\"1\" class=\"dataframe\">\n",
       "  <thead>\n",
       "    <tr style=\"text-align: right;\">\n",
       "      <th></th>\n",
       "      <th>index</th>\n",
       "      <th>id</th>\n",
       "      <th>release_date</th>\n",
       "      <th>primary_title</th>\n",
       "      <th>production_budget</th>\n",
       "      <th>domestic_gross</th>\n",
       "      <th>worldwide_gross</th>\n",
       "      <th>remade</th>\n",
       "      <th>international_gross</th>\n",
       "      <th>online_release</th>\n",
       "      <th>...</th>\n",
       "      <th>runtime_minutes</th>\n",
       "      <th>genres</th>\n",
       "      <th>genres_1</th>\n",
       "      <th>genres_2</th>\n",
       "      <th>genres_3</th>\n",
       "      <th>primary_name</th>\n",
       "      <th>nconst</th>\n",
       "      <th>primary_profession</th>\n",
       "      <th>averagerating</th>\n",
       "      <th>numvotes</th>\n",
       "    </tr>\n",
       "  </thead>\n",
       "  <tbody>\n",
       "    <tr>\n",
       "      <th>29</th>\n",
       "      <td>236</td>\n",
       "      <td>9</td>\n",
       "      <td>2018-11-21</td>\n",
       "      <td>Robin Hood</td>\n",
       "      <td>99000000</td>\n",
       "      <td>30824628</td>\n",
       "      <td>84747441</td>\n",
       "      <td>True</td>\n",
       "      <td>53922813</td>\n",
       "      <td>False</td>\n",
       "      <td>...</td>\n",
       "      <td>140.0</td>\n",
       "      <td>Action,Adventure,Drama</td>\n",
       "      <td>Action</td>\n",
       "      <td>Adventure</td>\n",
       "      <td>Drama</td>\n",
       "      <td>Velibor Topic</td>\n",
       "      <td>nm0867677</td>\n",
       "      <td>actor,miscellaneous</td>\n",
       "      <td>6.6</td>\n",
       "      <td>239480</td>\n",
       "    </tr>\n",
       "    <tr>\n",
       "      <th>30</th>\n",
       "      <td>236</td>\n",
       "      <td>9</td>\n",
       "      <td>2018-11-21</td>\n",
       "      <td>Robin Hood</td>\n",
       "      <td>99000000</td>\n",
       "      <td>30824628</td>\n",
       "      <td>84747441</td>\n",
       "      <td>True</td>\n",
       "      <td>53922813</td>\n",
       "      <td>False</td>\n",
       "      <td>...</td>\n",
       "      <td>92.0</td>\n",
       "      <td>Action,Drama</td>\n",
       "      <td>Action</td>\n",
       "      <td>Drama</td>\n",
       "      <td>NaN</td>\n",
       "      <td>Katrin Goetter</td>\n",
       "      <td>nm1271854</td>\n",
       "      <td>producer,assistant_director</td>\n",
       "      <td>6.3</td>\n",
       "      <td>78</td>\n",
       "    </tr>\n",
       "    <tr>\n",
       "      <th>31</th>\n",
       "      <td>236</td>\n",
       "      <td>9</td>\n",
       "      <td>2018-11-21</td>\n",
       "      <td>Robin Hood</td>\n",
       "      <td>99000000</td>\n",
       "      <td>30824628</td>\n",
       "      <td>84747441</td>\n",
       "      <td>True</td>\n",
       "      <td>53922813</td>\n",
       "      <td>False</td>\n",
       "      <td>...</td>\n",
       "      <td>116.0</td>\n",
       "      <td>Action,Adventure,Thriller</td>\n",
       "      <td>Action</td>\n",
       "      <td>Adventure</td>\n",
       "      <td>Thriller</td>\n",
       "      <td>Chris Barwell</td>\n",
       "      <td>nm0059471</td>\n",
       "      <td>editor,editorial_department</td>\n",
       "      <td>5.3</td>\n",
       "      <td>41588</td>\n",
       "    </tr>\n",
       "    <tr>\n",
       "      <th>32</th>\n",
       "      <td>236</td>\n",
       "      <td>9</td>\n",
       "      <td>2018-11-21</td>\n",
       "      <td>Robin Hood</td>\n",
       "      <td>99000000</td>\n",
       "      <td>30824628</td>\n",
       "      <td>84747441</td>\n",
       "      <td>True</td>\n",
       "      <td>53922813</td>\n",
       "      <td>False</td>\n",
       "      <td>...</td>\n",
       "      <td>NaN</td>\n",
       "      <td>NaN</td>\n",
       "      <td>NaN</td>\n",
       "      <td>NaN</td>\n",
       "      <td>NaN</td>\n",
       "      <td>Andrew Swift</td>\n",
       "      <td>nm8022954</td>\n",
       "      <td>actor</td>\n",
       "      <td>7.6</td>\n",
       "      <td>5</td>\n",
       "    </tr>\n",
       "    <tr>\n",
       "      <th>1105</th>\n",
       "      <td>1925</td>\n",
       "      <td>31</td>\n",
       "      <td>2012-12-31</td>\n",
       "      <td>Trance</td>\n",
       "      <td>950000</td>\n",
       "      <td>0</td>\n",
       "      <td>0</td>\n",
       "      <td>True</td>\n",
       "      <td>0</td>\n",
       "      <td>True</td>\n",
       "      <td>...</td>\n",
       "      <td>83.0</td>\n",
       "      <td>Horror</td>\n",
       "      <td>Horror</td>\n",
       "      <td>NaN</td>\n",
       "      <td>NaN</td>\n",
       "      <td>Kirk Kepper</td>\n",
       "      <td>nm0449138</td>\n",
       "      <td>actor,producer</td>\n",
       "      <td>4.6</td>\n",
       "      <td>77</td>\n",
       "    </tr>\n",
       "    <tr>\n",
       "      <th>1106</th>\n",
       "      <td>1925</td>\n",
       "      <td>31</td>\n",
       "      <td>2012-12-31</td>\n",
       "      <td>Trance</td>\n",
       "      <td>950000</td>\n",
       "      <td>0</td>\n",
       "      <td>0</td>\n",
       "      <td>True</td>\n",
       "      <td>0</td>\n",
       "      <td>True</td>\n",
       "      <td>...</td>\n",
       "      <td>101.0</td>\n",
       "      <td>Crime,Drama,Mystery</td>\n",
       "      <td>Crime</td>\n",
       "      <td>Drama</td>\n",
       "      <td>Mystery</td>\n",
       "      <td>Danny Sapani</td>\n",
       "      <td>nm0764527</td>\n",
       "      <td>actor</td>\n",
       "      <td>6.9</td>\n",
       "      <td>104951</td>\n",
       "    </tr>\n",
       "    <tr>\n",
       "      <th>1123</th>\n",
       "      <td>1940</td>\n",
       "      <td>52</td>\n",
       "      <td>2012-12-31</td>\n",
       "      <td>Snitch</td>\n",
       "      <td>850000</td>\n",
       "      <td>0</td>\n",
       "      <td>0</td>\n",
       "      <td>True</td>\n",
       "      <td>0</td>\n",
       "      <td>True</td>\n",
       "      <td>...</td>\n",
       "      <td>112.0</td>\n",
       "      <td>Action,Drama,Thriller</td>\n",
       "      <td>Action</td>\n",
       "      <td>Drama</td>\n",
       "      <td>Thriller</td>\n",
       "      <td>Nadine Velazquez</td>\n",
       "      <td>nm1229204</td>\n",
       "      <td>actress,producer,soundtrack</td>\n",
       "      <td>6.5</td>\n",
       "      <td>78142</td>\n",
       "    </tr>\n",
       "    <tr>\n",
       "      <th>1833</th>\n",
       "      <td>1818</td>\n",
       "      <td>100</td>\n",
       "      <td>2013-10-25</td>\n",
       "      <td>The Square</td>\n",
       "      <td>1500000</td>\n",
       "      <td>124244</td>\n",
       "      <td>176262</td>\n",
       "      <td>True</td>\n",
       "      <td>52018</td>\n",
       "      <td>False</td>\n",
       "      <td>...</td>\n",
       "      <td>108.0</td>\n",
       "      <td>Documentary,Drama,History</td>\n",
       "      <td>Documentary</td>\n",
       "      <td>Drama</td>\n",
       "      <td>History</td>\n",
       "      <td>Mike Lerner</td>\n",
       "      <td>nm0503631</td>\n",
       "      <td>producer,writer,director</td>\n",
       "      <td>8.1</td>\n",
       "      <td>7998</td>\n",
       "    </tr>\n",
       "    <tr>\n",
       "      <th>1834</th>\n",
       "      <td>1818</td>\n",
       "      <td>100</td>\n",
       "      <td>2013-10-25</td>\n",
       "      <td>The Square</td>\n",
       "      <td>1500000</td>\n",
       "      <td>124244</td>\n",
       "      <td>176262</td>\n",
       "      <td>True</td>\n",
       "      <td>52018</td>\n",
       "      <td>False</td>\n",
       "      <td>...</td>\n",
       "      <td>151.0</td>\n",
       "      <td>Comedy,Drama</td>\n",
       "      <td>Comedy</td>\n",
       "      <td>Drama</td>\n",
       "      <td>NaN</td>\n",
       "      <td>Kalle Boman</td>\n",
       "      <td>nm0093525</td>\n",
       "      <td>miscellaneous,producer,assistant_director</td>\n",
       "      <td>7.2</td>\n",
       "      <td>44239</td>\n",
       "    </tr>\n",
       "  </tbody>\n",
       "</table>\n",
       "<p>9 rows × 24 columns</p>\n",
       "</div>"
      ],
      "text/plain": [
       "      index   id release_date primary_title  production_budget  \\\n",
       "29      236    9   2018-11-21    Robin Hood           99000000   \n",
       "30      236    9   2018-11-21    Robin Hood           99000000   \n",
       "31      236    9   2018-11-21    Robin Hood           99000000   \n",
       "32      236    9   2018-11-21    Robin Hood           99000000   \n",
       "1105   1925   31   2012-12-31        Trance             950000   \n",
       "1106   1925   31   2012-12-31        Trance             950000   \n",
       "1123   1940   52   2012-12-31        Snitch             850000   \n",
       "1833   1818  100   2013-10-25    The Square            1500000   \n",
       "1834   1818  100   2013-10-25    The Square            1500000   \n",
       "\n",
       "      domestic_gross  worldwide_gross  remade  international_gross  \\\n",
       "29          30824628         84747441    True             53922813   \n",
       "30          30824628         84747441    True             53922813   \n",
       "31          30824628         84747441    True             53922813   \n",
       "32          30824628         84747441    True             53922813   \n",
       "1105               0                0    True                    0   \n",
       "1106               0                0    True                    0   \n",
       "1123               0                0    True                    0   \n",
       "1833          124244           176262    True                52018   \n",
       "1834          124244           176262    True                52018   \n",
       "\n",
       "      online_release  ...  runtime_minutes                     genres  \\\n",
       "29             False  ...            140.0     Action,Adventure,Drama   \n",
       "30             False  ...             92.0               Action,Drama   \n",
       "31             False  ...            116.0  Action,Adventure,Thriller   \n",
       "32             False  ...              NaN                        NaN   \n",
       "1105            True  ...             83.0                     Horror   \n",
       "1106            True  ...            101.0        Crime,Drama,Mystery   \n",
       "1123            True  ...            112.0      Action,Drama,Thriller   \n",
       "1833           False  ...            108.0  Documentary,Drama,History   \n",
       "1834           False  ...            151.0               Comedy,Drama   \n",
       "\n",
       "         genres_1   genres_2  genres_3      primary_name     nconst  \\\n",
       "29         Action  Adventure     Drama     Velibor Topic  nm0867677   \n",
       "30         Action      Drama       NaN    Katrin Goetter  nm1271854   \n",
       "31         Action  Adventure  Thriller     Chris Barwell  nm0059471   \n",
       "32            NaN        NaN       NaN      Andrew Swift  nm8022954   \n",
       "1105       Horror        NaN       NaN       Kirk Kepper  nm0449138   \n",
       "1106        Crime      Drama   Mystery      Danny Sapani  nm0764527   \n",
       "1123       Action      Drama  Thriller  Nadine Velazquez  nm1229204   \n",
       "1833  Documentary      Drama   History       Mike Lerner  nm0503631   \n",
       "1834       Comedy      Drama       NaN       Kalle Boman  nm0093525   \n",
       "\n",
       "                             primary_profession averagerating numvotes  \n",
       "29                          actor,miscellaneous           6.6   239480  \n",
       "30                  producer,assistant_director           6.3       78  \n",
       "31                  editor,editorial_department           5.3    41588  \n",
       "32                                        actor           7.6        5  \n",
       "1105                             actor,producer           4.6       77  \n",
       "1106                                      actor           6.9   104951  \n",
       "1123                actress,producer,soundtrack           6.5    78142  \n",
       "1833                   producer,writer,director           8.1     7998  \n",
       "1834  miscellaneous,producer,assistant_director           7.2    44239  \n",
       "\n",
       "[9 rows x 24 columns]"
      ]
     },
     "execution_count": 66,
     "metadata": {},
     "output_type": "execute_result"
    }
   ],
   "source": [
    "full_merge_attempt.loc[full_merge_attempt.tconst.duplicated() == True]"
   ]
  },
  {
   "cell_type": "code",
   "execution_count": 67,
   "metadata": {},
   "outputs": [
    {
     "data": {
      "text/plain": [
       "2014    293\n",
       "2013    264\n",
       "2015    262\n",
       "2010    259\n",
       "2011    252\n",
       "2012    247\n",
       "2016    232\n",
       "2017    166\n",
       "2018    153\n",
       "Name: start_year, dtype: int64"
      ]
     },
     "execution_count": 67,
     "metadata": {},
     "output_type": "execute_result"
    }
   ],
   "source": [
    "full_merge_attempt.groupby('tconst').first().start_year.value_counts()"
   ]
  },
  {
   "cell_type": "markdown",
   "metadata": {},
   "source": [
    "### Question:\n",
    "Why are the movies released per year of movies so not uniform?"
   ]
  },
  {
   "cell_type": "code",
   "execution_count": 68,
   "metadata": {},
   "outputs": [
    {
     "data": {
      "text/plain": [
       "Index(['index', 'id', 'release_date', 'primary_title', 'production_budget',\n",
       "       'domestic_gross', 'worldwide_gross', 'remade', 'international_gross',\n",
       "       'online_release', 'release_year', 'tconst', 'original_title',\n",
       "       'start_year', 'runtime_minutes', 'genres', 'genres_1', 'genres_2',\n",
       "       'genres_3', 'primary_name', 'nconst', 'primary_profession',\n",
       "       'averagerating', 'numvotes'],\n",
       "      dtype='object')"
      ]
     },
     "execution_count": 68,
     "metadata": {},
     "output_type": "execute_result"
    }
   ],
   "source": [
    "full_merge_attempt.columns"
   ]
  },
  {
   "cell_type": "code",
   "execution_count": 69,
   "metadata": {},
   "outputs": [
    {
     "data": {
      "text/plain": [
       "<matplotlib.axes._subplots.AxesSubplot at 0x2132e096908>"
      ]
     },
     "execution_count": 69,
     "metadata": {},
     "output_type": "execute_result"
    },
    {
     "data": {
      "image/png": "[encoded data removed]",
      "text/plain": [
       "<Figure size 432x288 with 1 Axes>"
      ]
     },
     "metadata": {
      "needs_background": "light"
     },
     "output_type": "display_data"
    }
   ],
   "source": [
    "sns.scatterplot(x='averagerating', y='worldwide_gross', data= full_merge_attempt)"
   ]
  },
  {
   "cell_type": "code",
   "execution_count": 71,
   "metadata": {},
   "outputs": [
    {
     "data": {
      "text/plain": [
       "<matplotlib.axes._subplots.AxesSubplot at 0x213111c2f28>"
      ]
     },
     "execution_count": 71,
     "metadata": {},
     "output_type": "execute_result"
    },
    {
     "data": {
      "image/png": "[encoded data removed]",
      "text/plain": [
       "<Figure size 432x288 with 1 Axes>"
      ]
     },
     "metadata": {
      "needs_background": "light"
     },
     "output_type": "display_data"
    }
   ],
   "source": [
    "sns.scatterplot(x='numvotes', y='worldwide_gross', data= full_merge_attempt)"
   ]
  },
  {
   "cell_type": "code",
   "execution_count": 77,
   "metadata": {},
   "outputs": [
    {
     "data": {
      "text/plain": [
       "<matplotlib.axes._subplots.AxesSubplot at 0x21310fdbf60>"
      ]
     },
     "execution_count": 77,
     "metadata": {},
     "output_type": "execute_result"
    },
    {
     "data": {
      "image/png": "[encoded data removed]",
      "text/plain": [
       "<Figure size 432x288 with 1 Axes>"
      ]
     },
     "metadata": {
      "needs_background": "light"
     },
     "output_type": "display_data"
    }
   ],
   "source": [
    "sns.scatterplot(x='averagerating', y='numvotes', data= full_merge_attempt.loc[full_merge_attempt.online_release==True])"
   ]
  },
  {
   "cell_type": "markdown",
   "metadata": {},
   "source": [
    "I think I want to compare ```averagerating```, ```numvotes```, and ```worldwide_gross```. \n",
    "I'll try binning the average rating and number votes categories and create a violin plot."
   ]
  },
  {
   "cell_type": "code",
   "execution_count": 78,
   "metadata": {},
   "outputs": [
    {
     "data": {
      "text/plain": [
       "count    2.137000e+03\n",
       "mean     8.500244e+04\n",
       "std      1.471652e+05\n",
       "min      5.000000e+00\n",
       "25%      1.024000e+03\n",
       "50%      2.900400e+04\n",
       "75%      1.013930e+05\n",
       "max      1.841066e+06\n",
       "Name: numvotes, dtype: float64"
      ]
     },
     "execution_count": 78,
     "metadata": {},
     "output_type": "execute_result"
    }
   ],
   "source": [
    "full_merge_attempt.numvotes.describe()"
   ]
  },
  {
   "cell_type": "code",
   "execution_count": 85,
   "metadata": {},
   "outputs": [],
   "source": [
    "def partition_votes(num_votes):\n",
    "    if num_votes<=1024:\n",
    "        return 1\n",
    "    elif num_votes<=29004:\n",
    "        return 2\n",
    "    elif num_votes<=101393:\n",
    "        return 3\n",
    "    elif num_votes<=1841066:\n",
    "        return 4\n",
    "    else:\n",
    "        print('I made a booboo')\n",
    "        return False    "
   ]
  },
  {
   "cell_type": "code",
   "execution_count": 86,
   "metadata": {},
   "outputs": [],
   "source": [
    "full_merge_attempt['bin_numvotes'] = full_merge_attempt.numvotes.map(partition_votes)"
   ]
  },
  {
   "cell_type": "code",
   "execution_count": 87,
   "metadata": {},
   "outputs": [
    {
     "data": {
      "text/plain": [
       "1    535\n",
       "3    534\n",
       "4    534\n",
       "2    534\n",
       "Name: bin_numvotes, dtype: int64"
      ]
     },
     "execution_count": 87,
     "metadata": {},
     "output_type": "execute_result"
    }
   ],
   "source": [
    "full_merge_attempt.bin_numvotes.value_counts()"
   ]
  },
  {
   "cell_type": "code",
   "execution_count": 88,
   "metadata": {},
   "outputs": [
    {
     "data": {
      "image/png": "[encoded data removed]",
      "text/plain": [
       "<Figure size 432x288 with 1 Axes>"
      ]
     },
     "metadata": {
      "needs_background": "light"
     },
     "output_type": "display_data"
    }
   ],
   "source": [
    "sns.violinplot(x='bin_numvotes', y='averagerating', hue=\"online_release\",\n",
    "               split=True, inner=\"quart\",\n",
    "               palette={True: \"y\", False: \"b\"},\n",
    "               data=full_merge_attempt)\n",
    "sns.despine(left=True)"
   ]
  },
  {
   "cell_type": "code",
   "execution_count": 89,
   "metadata": {},
   "outputs": [
    {
     "data": {
      "image/png": "[encoded data removed]",
      "text/plain": [
       "<Figure size 432x288 with 1 Axes>"
      ]
     },
     "metadata": {
      "needs_background": "light"
     },
     "output_type": "display_data"
    }
   ],
   "source": [
    "sns.violinplot(x='bin_numvotes', y='production_budget', hue=\"online_release\",\n",
    "               split=True, inner=\"quart\",\n",
    "               palette={True: \"y\", False: \"b\"},\n",
    "               data=full_merge_attempt)\n",
    "sns.despine(left=True)"
   ]
  },
  {
   "cell_type": "code",
   "execution_count": null,
   "metadata": {},
   "outputs": [],
   "source": []
  }
 ],
 "metadata": {
  "kernelspec": {
   "display_name": "Python 3",
   "language": "python",
   "name": "python3"
  },
  "language_info": {
   "codemirror_mode": {
    "name": "ipython",
    "version": 3
   },
   "file_extension": ".py",
   "mimetype": "text/x-python",
   "name": "python",
   "nbconvert_exporter": "python",
   "pygments_lexer": "ipython3",
   "version": "3.7.3"
  }
 },
 "nbformat": 4,
 "nbformat_minor": 2
}
