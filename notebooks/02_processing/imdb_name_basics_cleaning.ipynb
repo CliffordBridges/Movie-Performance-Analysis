{
 "cells": [
  {
   "cell_type": "code",
   "execution_count": null,
   "metadata": {},
   "outputs": [],
   "source": [
    "import pandas as pd\n",
    "import numpy as np \n",
    "import matplotlib.pyplot as plt\n",
    "import seaborn as sns"
   ]
  },
  {
   "cell_type": "code",
   "execution_count": null,
   "metadata": {
    "scrolled": false
   },
   "outputs": [],
   "source": [
    "imdb_name_basics = pd.read_csv('data/imdb.name.basics.csv.gz')\n",
    "imdb_name_basics.head()"
   ]
  },
  {
   "cell_type": "markdown",
   "metadata": {},
   "source": [
    "### 1. Split values in 'known_for_titles' column "
   ]
  },
  {
   "cell_type": "code",
   "execution_count": null,
   "metadata": {},
   "outputs": [],
   "source": [
    "knownfor_expand = imdb_name_basics.known_for_titles.str.split(\",\", expand=True)"
   ]
  },
  {
   "cell_type": "code",
   "execution_count": null,
   "metadata": {},
   "outputs": [],
   "source": [
    "imdb_name_basics['known_for_titles_1'] = knownfor_expand[0]\n",
    "imdb_name_basics['known_for_titles_2'] = knownfor_expand[1]\n",
    "imdb_name_basics['known_for_titles_3'] = knownfor_expand[2]\n",
    "imdb_name_basics['known_for_titles_4'] = knownfor_expand[3]\n",
    "imdb_name_basics['known_for_titles_5'] = knownfor_expand[4]\n",
    "imdb_name_basics['known_for_titles_6'] = knownfor_expand[5]"
   ]
  },
  {
   "cell_type": "code",
   "execution_count": null,
   "metadata": {},
   "outputs": [],
   "source": [
    "imdb_name_basics.head()"
   ]
  },
  {
   "cell_type": "markdown",
   "metadata": {},
   "source": [
    "### 2. Change dataframe format from wide to long so that the key column changes from 'primary_name' to 'tconst'    "
   ]
  },
  {
   "cell_type": "code",
   "execution_count": null,
   "metadata": {},
   "outputs": [],
   "source": [
    "imdb_names_small = imdb_name_basics\n",
    "imdb_names_small = imdb_names_small.drop(['birth_year', \n",
    "                                          'death_year', \n",
    "                                          'known_for_titles'], \n",
    "                                         axis=1)"
   ]
  },
  {
   "cell_type": "code",
   "execution_count": null,
   "metadata": {},
   "outputs": [],
   "source": [
    "imdb_names_melt = pd.melt(imdb_names_small, \n",
    "                          id_vars =['primary_name', \n",
    "                                    'nconst', \n",
    "                                    'primary_profession'], \n",
    "                          value_vars =['known_for_titles_1', \n",
    "                                       'known_for_titles_2', \n",
    "                                       'known_for_titles_3', \n",
    "                                       'known_for_titles_4',\n",
    "                                       'known_for_titles_5', \n",
    "                                       'known_for_titles_6'])\n"
   ]
  },
  {
   "cell_type": "code",
   "execution_count": null,
   "metadata": {},
   "outputs": [],
   "source": [
    "imdb_names_small.head()"
   ]
  },
  {
   "cell_type": "code",
   "execution_count": null,
   "metadata": {
    "scrolled": true
   },
   "outputs": [],
   "source": [
    "imdb_names_melt.drop('variable', inplace=True, axis=1)\n",
    "imdb_names_melt.dropna(inplace=True)\n",
    "imdb_names_melt.reset_index(inplace=True)\n",
    "imdb_names_melt.drop('index', axis=1, inplace=True)"
   ]
  },
  {
   "cell_type": "code",
   "execution_count": null,
   "metadata": {},
   "outputs": [],
   "source": [
    "imdb_names_melt.rename(columns={'value': 'movie_titles'}, inplace=True)"
   ]
  },
  {
   "cell_type": "code",
   "execution_count": null,
   "metadata": {},
   "outputs": [],
   "source": [
    "imdb_names_melt.rename(columns={'movie_titles': 'tconst'}, inplace=True)\n",
    "imdb_names_melt.set_index('tconst', inplace=True)\n",
    "imdb_names_melt.head()"
   ]
  },
  {
   "cell_type": "code",
   "execution_count": null,
   "metadata": {},
   "outputs": [],
   "source": [
    "# imdb_names_melt.to_csv('data/imdb_names_update')"
   ]
  }
 ],
 "metadata": {
  "kernelspec": {
   "display_name": "Python 3",
   "language": "python",
   "name": "python3"
  },
  "language_info": {
   "codemirror_mode": {
    "name": "ipython",
    "version": 3
   },
   "file_extension": ".py",
   "mimetype": "text/x-python",
   "name": "python",
   "nbconvert_exporter": "python",
   "pygments_lexer": "ipython3",
   "version": "3.7.1"
  }
 },
 "nbformat": 4,
 "nbformat_minor": 2
}
