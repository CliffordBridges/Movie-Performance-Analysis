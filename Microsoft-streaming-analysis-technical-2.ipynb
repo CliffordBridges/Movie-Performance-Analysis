{
 "cells": [
  {
   "cell_type": "code",
   "execution_count": 1,
   "metadata": {},
   "outputs": [],
   "source": [
    "import pandas as pd\n",
    "import numpy as np\n",
    "import seaborn as sns\n",
    "import matplotlib.pyplot as plt"
   ]
  },
  {
   "cell_type": "markdown",
   "metadata": {},
   "source": [
    "# Step 1: Read in the Data\n",
    "\n",
    "Data is being read in from [learn-co-students](https://github.com/CliffordBridges/Movie-Performance-Analysis/tree/master/data)\n",
    "\n",
    "We'll check the head of each dataframe we create to make sure the data is comprehensible to the human eye.\n",
    "***"
   ]
  },
  {
   "cell_type": "code",
   "execution_count": 2,
   "metadata": {},
   "outputs": [],
   "source": [
    "tn_movie_budgets = pd.read_csv('data/tn.movie_budgets.csv.gz')"
   ]
  },
  {
   "cell_type": "code",
   "execution_count": 3,
   "metadata": {},
   "outputs": [
    {
     "data": {
      "text/html": [
       "<div>\n",
       "<style scoped>\n",
       "    .dataframe tbody tr th:only-of-type {\n",
       "        vertical-align: middle;\n",
       "    }\n",
       "\n",
       "    .dataframe tbody tr th {\n",
       "        vertical-align: top;\n",
       "    }\n",
       "\n",
       "    .dataframe thead th {\n",
       "        text-align: right;\n",
       "    }\n",
       "</style>\n",
       "<table border=\"1\" class=\"dataframe\">\n",
       "  <thead>\n",
       "    <tr style=\"text-align: right;\">\n",
       "      <th></th>\n",
       "      <th>id</th>\n",
       "      <th>release_date</th>\n",
       "      <th>movie</th>\n",
       "      <th>production_budget</th>\n",
       "      <th>domestic_gross</th>\n",
       "      <th>worldwide_gross</th>\n",
       "    </tr>\n",
       "  </thead>\n",
       "  <tbody>\n",
       "    <tr>\n",
       "      <th>0</th>\n",
       "      <td>1</td>\n",
       "      <td>Dec 18, 2009</td>\n",
       "      <td>Avatar</td>\n",
       "      <td>$425,000,000</td>\n",
       "      <td>$760,507,625</td>\n",
       "      <td>$2,776,345,279</td>\n",
       "    </tr>\n",
       "    <tr>\n",
       "      <th>1</th>\n",
       "      <td>2</td>\n",
       "      <td>May 20, 2011</td>\n",
       "      <td>Pirates of the Caribbean: On Stranger Tides</td>\n",
       "      <td>$410,600,000</td>\n",
       "      <td>$241,063,875</td>\n",
       "      <td>$1,045,663,875</td>\n",
       "    </tr>\n",
       "    <tr>\n",
       "      <th>2</th>\n",
       "      <td>3</td>\n",
       "      <td>Jun 7, 2019</td>\n",
       "      <td>Dark Phoenix</td>\n",
       "      <td>$350,000,000</td>\n",
       "      <td>$42,762,350</td>\n",
       "      <td>$149,762,350</td>\n",
       "    </tr>\n",
       "    <tr>\n",
       "      <th>3</th>\n",
       "      <td>4</td>\n",
       "      <td>May 1, 2015</td>\n",
       "      <td>Avengers: Age of Ultron</td>\n",
       "      <td>$330,600,000</td>\n",
       "      <td>$459,005,868</td>\n",
       "      <td>$1,403,013,963</td>\n",
       "    </tr>\n",
       "    <tr>\n",
       "      <th>4</th>\n",
       "      <td>5</td>\n",
       "      <td>Dec 15, 2017</td>\n",
       "      <td>Star Wars Ep. VIII: The Last Jedi</td>\n",
       "      <td>$317,000,000</td>\n",
       "      <td>$620,181,382</td>\n",
       "      <td>$1,316,721,747</td>\n",
       "    </tr>\n",
       "  </tbody>\n",
       "</table>\n",
       "</div>"
      ],
      "text/plain": [
       "   id  release_date                                        movie  \\\n",
       "0   1  Dec 18, 2009                                       Avatar   \n",
       "1   2  May 20, 2011  Pirates of the Caribbean: On Stranger Tides   \n",
       "2   3   Jun 7, 2019                                 Dark Phoenix   \n",
       "3   4   May 1, 2015                      Avengers: Age of Ultron   \n",
       "4   5  Dec 15, 2017            Star Wars Ep. VIII: The Last Jedi   \n",
       "\n",
       "  production_budget domestic_gross worldwide_gross  \n",
       "0      $425,000,000   $760,507,625  $2,776,345,279  \n",
       "1      $410,600,000   $241,063,875  $1,045,663,875  \n",
       "2      $350,000,000    $42,762,350    $149,762,350  \n",
       "3      $330,600,000   $459,005,868  $1,403,013,963  \n",
       "4      $317,000,000   $620,181,382  $1,316,721,747  "
      ]
     },
     "execution_count": 3,
     "metadata": {},
     "output_type": "execute_result"
    }
   ],
   "source": [
    "tn_movie_budgets.head()"
   ]
  },
  {
   "cell_type": "markdown",
   "metadata": {},
   "source": [
    "***\n",
    "## Summary of Step 1\n",
    "\n",
    "### First Round of Questions About Data\n",
    "\n",
    "1. Can we find out how these movies were released? as in on Netflix/Hulu/Box Office/Amazon Prime/YouTube?\n",
    "2. How dirty are any of these data sets?\n",
    "3. Do we know that grosses are USD?\n",
    "4. And do dollars account for inflation?\n",
    "5. How much rounding is going on in these grosses?\n",
    "***"
   ]
  },
  {
   "cell_type": "markdown",
   "metadata": {},
   "source": [
    "# Step 2: Let's try to clean some of this data\n",
    "\n",
    "Clean the ```tn_movie_budgets``` by searching for any unreasonable values.\n",
    "***"
   ]
  },
  {
   "cell_type": "code",
   "execution_count": 4,
   "metadata": {},
   "outputs": [
    {
     "data": {
      "text/html": [
       "<div>\n",
       "<style scoped>\n",
       "    .dataframe tbody tr th:only-of-type {\n",
       "        vertical-align: middle;\n",
       "    }\n",
       "\n",
       "    .dataframe tbody tr th {\n",
       "        vertical-align: top;\n",
       "    }\n",
       "\n",
       "    .dataframe thead th {\n",
       "        text-align: right;\n",
       "    }\n",
       "</style>\n",
       "<table border=\"1\" class=\"dataframe\">\n",
       "  <thead>\n",
       "    <tr style=\"text-align: right;\">\n",
       "      <th></th>\n",
       "      <th>id</th>\n",
       "      <th>release_date</th>\n",
       "      <th>movie</th>\n",
       "      <th>production_budget</th>\n",
       "      <th>domestic_gross</th>\n",
       "      <th>worldwide_gross</th>\n",
       "    </tr>\n",
       "  </thead>\n",
       "  <tbody>\n",
       "    <tr>\n",
       "      <th>0</th>\n",
       "      <td>1</td>\n",
       "      <td>Dec 18, 2009</td>\n",
       "      <td>Avatar</td>\n",
       "      <td>$425,000,000</td>\n",
       "      <td>$760,507,625</td>\n",
       "      <td>$2,776,345,279</td>\n",
       "    </tr>\n",
       "    <tr>\n",
       "      <th>1</th>\n",
       "      <td>2</td>\n",
       "      <td>May 20, 2011</td>\n",
       "      <td>Pirates of the Caribbean: On Stranger Tides</td>\n",
       "      <td>$410,600,000</td>\n",
       "      <td>$241,063,875</td>\n",
       "      <td>$1,045,663,875</td>\n",
       "    </tr>\n",
       "    <tr>\n",
       "      <th>2</th>\n",
       "      <td>3</td>\n",
       "      <td>Jun 7, 2019</td>\n",
       "      <td>Dark Phoenix</td>\n",
       "      <td>$350,000,000</td>\n",
       "      <td>$42,762,350</td>\n",
       "      <td>$149,762,350</td>\n",
       "    </tr>\n",
       "    <tr>\n",
       "      <th>3</th>\n",
       "      <td>4</td>\n",
       "      <td>May 1, 2015</td>\n",
       "      <td>Avengers: Age of Ultron</td>\n",
       "      <td>$330,600,000</td>\n",
       "      <td>$459,005,868</td>\n",
       "      <td>$1,403,013,963</td>\n",
       "    </tr>\n",
       "    <tr>\n",
       "      <th>4</th>\n",
       "      <td>5</td>\n",
       "      <td>Dec 15, 2017</td>\n",
       "      <td>Star Wars Ep. VIII: The Last Jedi</td>\n",
       "      <td>$317,000,000</td>\n",
       "      <td>$620,181,382</td>\n",
       "      <td>$1,316,721,747</td>\n",
       "    </tr>\n",
       "  </tbody>\n",
       "</table>\n",
       "</div>"
      ],
      "text/plain": [
       "   id  release_date                                        movie  \\\n",
       "0   1  Dec 18, 2009                                       Avatar   \n",
       "1   2  May 20, 2011  Pirates of the Caribbean: On Stranger Tides   \n",
       "2   3   Jun 7, 2019                                 Dark Phoenix   \n",
       "3   4   May 1, 2015                      Avengers: Age of Ultron   \n",
       "4   5  Dec 15, 2017            Star Wars Ep. VIII: The Last Jedi   \n",
       "\n",
       "  production_budget domestic_gross worldwide_gross  \n",
       "0      $425,000,000   $760,507,625  $2,776,345,279  \n",
       "1      $410,600,000   $241,063,875  $1,045,663,875  \n",
       "2      $350,000,000    $42,762,350    $149,762,350  \n",
       "3      $330,600,000   $459,005,868  $1,403,013,963  \n",
       "4      $317,000,000   $620,181,382  $1,316,721,747  "
      ]
     },
     "execution_count": 4,
     "metadata": {},
     "output_type": "execute_result"
    }
   ],
   "source": [
    "tn_movie_budgets.head()"
   ]
  },
  {
   "cell_type": "code",
   "execution_count": 5,
   "metadata": {},
   "outputs": [
    {
     "name": "stdout",
     "output_type": "stream",
     "text": [
      "<class 'pandas.core.frame.DataFrame'>\n",
      "RangeIndex: 5782 entries, 0 to 5781\n",
      "Data columns (total 6 columns):\n",
      "id                   5782 non-null int64\n",
      "release_date         5782 non-null object\n",
      "movie                5782 non-null object\n",
      "production_budget    5782 non-null object\n",
      "domestic_gross       5782 non-null object\n",
      "worldwide_gross      5782 non-null object\n",
      "dtypes: int64(1), object(5)\n",
      "memory usage: 271.1+ KB\n"
     ]
    }
   ],
   "source": [
    "tn_movie_budgets.info()"
   ]
  },
  {
   "cell_type": "code",
   "execution_count": 6,
   "metadata": {},
   "outputs": [
    {
     "data": {
      "text/plain": [
       "(5782, 6)"
      ]
     },
     "execution_count": 6,
     "metadata": {},
     "output_type": "execute_result"
    }
   ],
   "source": [
    "tn_movie_budgets.shape"
   ]
  },
  {
   "cell_type": "markdown",
   "metadata": {},
   "source": [
    "***\n",
    "### Are any rows duplicated?\n",
    "***"
   ]
  },
  {
   "cell_type": "code",
   "execution_count": 7,
   "metadata": {},
   "outputs": [
    {
     "data": {
      "text/plain": [
       "0"
      ]
     },
     "execution_count": 7,
     "metadata": {},
     "output_type": "execute_result"
    }
   ],
   "source": [
    "tn_movie_budgets.duplicated().sum()"
   ]
  },
  {
   "cell_type": "markdown",
   "metadata": {},
   "source": [
    "No entire rows are dulicated, but maybe there are weird values in a \"duplicated\" row which makes it hard to identify. \n",
    "We'll check for duplicated names explicity."
   ]
  },
  {
   "cell_type": "code",
   "execution_count": 8,
   "metadata": {},
   "outputs": [
    {
     "data": {
      "text/plain": [
       "84"
      ]
     },
     "execution_count": 8,
     "metadata": {},
     "output_type": "execute_result"
    }
   ],
   "source": [
    "tn_movie_budgets.duplicated('movie').sum()"
   ]
  },
  {
   "cell_type": "code",
   "execution_count": 9,
   "metadata": {},
   "outputs": [],
   "source": [
    "tn_movie_budgets['repeated_name'] = tn_movie_budgets.movie.duplicated(keep=False)"
   ]
  },
  {
   "cell_type": "markdown",
   "metadata": {},
   "source": [
    "There appear to be no actually duplicated data, all of the duplicated rows appear to be remakes of an original. Lets change the name of that column from ```repeated_name``` to ```remade```."
   ]
  },
  {
   "cell_type": "code",
   "execution_count": 10,
   "metadata": {},
   "outputs": [],
   "source": [
    "tn_movie_budgets['repeated_name'] = tn_movie_budgets.movie.duplicated()"
   ]
  },
  {
   "cell_type": "code",
   "execution_count": 11,
   "metadata": {},
   "outputs": [],
   "source": [
    "tn_movie_budgets.rename(columns={'repeated_name':'remade'}, inplace=True)"
   ]
  },
  {
   "cell_type": "markdown",
   "metadata": {},
   "source": [
    "No, there aren't duplicated rows in a negative sense. \n",
    "Just remade movies. \n",
    "We're okay with that!"
   ]
  },
  {
   "cell_type": "markdown",
   "metadata": {},
   "source": [
    "***\n",
    "### Are their weird values?\n",
    "***\n",
    "\n",
    "While checking for duplicates, we noticed that there were 0s in the ```domestic_gross``` and ```worldwide_gross``` columns.\n",
    "Lets do the following:\n",
    "- [ ] first, convert all money columns to ints from objects, \n",
    "- [ ] second, make a new column called ```international_gross``` which is ```worldwide_gross```$-$```domestic_gross```, and\n",
    "- [ ] finally, decide whether or not to drop rows with too many \\$0s.\n",
    "***"
   ]
  },
  {
   "cell_type": "code",
   "execution_count": 12,
   "metadata": {},
   "outputs": [
    {
     "data": {
      "text/plain": [
       "id                    int64\n",
       "release_date         object\n",
       "movie                object\n",
       "production_budget    object\n",
       "domestic_gross       object\n",
       "worldwide_gross      object\n",
       "remade                 bool\n",
       "dtype: object"
      ]
     },
     "execution_count": 12,
     "metadata": {},
     "output_type": "execute_result"
    }
   ],
   "source": [
    "tn_movie_budgets.dtypes"
   ]
  },
  {
   "cell_type": "code",
   "execution_count": 13,
   "metadata": {},
   "outputs": [],
   "source": [
    "tn_movie_budgets = tn_movie_budgets.astype({'production_budget':'str', 'domestic_gross':'str', 'worldwide_gross':'str'})"
   ]
  },
  {
   "cell_type": "code",
   "execution_count": 14,
   "metadata": {},
   "outputs": [],
   "source": [
    "def get_rid_of_dollar_sign(amount):\n",
    "    if amount.startswith('$'):\n",
    "        amount = amount[1:]\n",
    "    else:\n",
    "        print('Crap, one of my values didn\\'t start with a dollar sign')\n",
    "    return amount"
   ]
  },
  {
   "cell_type": "code",
   "execution_count": 15,
   "metadata": {},
   "outputs": [],
   "source": [
    "for title in ['production_budget', 'domestic_gross', 'worldwide_gross']:\n",
    "    tn_movie_budgets[title] = tn_movie_budgets[title].map(get_rid_of_dollar_sign)"
   ]
  },
  {
   "cell_type": "code",
   "execution_count": 16,
   "metadata": {},
   "outputs": [],
   "source": [
    "for title in ['production_budget', 'domestic_gross', 'worldwide_gross']:\n",
    "    tn_movie_budgets[title] = tn_movie_budgets[title].map(lambda x: x.replace(',','_'))"
   ]
  },
  {
   "cell_type": "code",
   "execution_count": 17,
   "metadata": {},
   "outputs": [
    {
     "data": {
      "text/html": [
       "<div>\n",
       "<style scoped>\n",
       "    .dataframe tbody tr th:only-of-type {\n",
       "        vertical-align: middle;\n",
       "    }\n",
       "\n",
       "    .dataframe tbody tr th {\n",
       "        vertical-align: top;\n",
       "    }\n",
       "\n",
       "    .dataframe thead th {\n",
       "        text-align: right;\n",
       "    }\n",
       "</style>\n",
       "<table border=\"1\" class=\"dataframe\">\n",
       "  <thead>\n",
       "    <tr style=\"text-align: right;\">\n",
       "      <th></th>\n",
       "      <th>id</th>\n",
       "      <th>release_date</th>\n",
       "      <th>movie</th>\n",
       "      <th>production_budget</th>\n",
       "      <th>domestic_gross</th>\n",
       "      <th>worldwide_gross</th>\n",
       "      <th>remade</th>\n",
       "    </tr>\n",
       "  </thead>\n",
       "  <tbody>\n",
       "    <tr>\n",
       "      <th>0</th>\n",
       "      <td>1</td>\n",
       "      <td>Dec 18, 2009</td>\n",
       "      <td>Avatar</td>\n",
       "      <td>425_000_000</td>\n",
       "      <td>760_507_625</td>\n",
       "      <td>2_776_345_279</td>\n",
       "      <td>False</td>\n",
       "    </tr>\n",
       "    <tr>\n",
       "      <th>1</th>\n",
       "      <td>2</td>\n",
       "      <td>May 20, 2011</td>\n",
       "      <td>Pirates of the Caribbean: On Stranger Tides</td>\n",
       "      <td>410_600_000</td>\n",
       "      <td>241_063_875</td>\n",
       "      <td>1_045_663_875</td>\n",
       "      <td>False</td>\n",
       "    </tr>\n",
       "    <tr>\n",
       "      <th>2</th>\n",
       "      <td>3</td>\n",
       "      <td>Jun 7, 2019</td>\n",
       "      <td>Dark Phoenix</td>\n",
       "      <td>350_000_000</td>\n",
       "      <td>42_762_350</td>\n",
       "      <td>149_762_350</td>\n",
       "      <td>False</td>\n",
       "    </tr>\n",
       "    <tr>\n",
       "      <th>3</th>\n",
       "      <td>4</td>\n",
       "      <td>May 1, 2015</td>\n",
       "      <td>Avengers: Age of Ultron</td>\n",
       "      <td>330_600_000</td>\n",
       "      <td>459_005_868</td>\n",
       "      <td>1_403_013_963</td>\n",
       "      <td>False</td>\n",
       "    </tr>\n",
       "    <tr>\n",
       "      <th>4</th>\n",
       "      <td>5</td>\n",
       "      <td>Dec 15, 2017</td>\n",
       "      <td>Star Wars Ep. VIII: The Last Jedi</td>\n",
       "      <td>317_000_000</td>\n",
       "      <td>620_181_382</td>\n",
       "      <td>1_316_721_747</td>\n",
       "      <td>False</td>\n",
       "    </tr>\n",
       "  </tbody>\n",
       "</table>\n",
       "</div>"
      ],
      "text/plain": [
       "   id  release_date                                        movie  \\\n",
       "0   1  Dec 18, 2009                                       Avatar   \n",
       "1   2  May 20, 2011  Pirates of the Caribbean: On Stranger Tides   \n",
       "2   3   Jun 7, 2019                                 Dark Phoenix   \n",
       "3   4   May 1, 2015                      Avengers: Age of Ultron   \n",
       "4   5  Dec 15, 2017            Star Wars Ep. VIII: The Last Jedi   \n",
       "\n",
       "  production_budget domestic_gross worldwide_gross  remade  \n",
       "0       425_000_000    760_507_625   2_776_345_279   False  \n",
       "1       410_600_000    241_063_875   1_045_663_875   False  \n",
       "2       350_000_000     42_762_350     149_762_350   False  \n",
       "3       330_600_000    459_005_868   1_403_013_963   False  \n",
       "4       317_000_000    620_181_382   1_316_721_747   False  "
      ]
     },
     "execution_count": 17,
     "metadata": {},
     "output_type": "execute_result"
    }
   ],
   "source": [
    "tn_movie_budgets.head()"
   ]
  },
  {
   "cell_type": "code",
   "execution_count": 18,
   "metadata": {},
   "outputs": [],
   "source": [
    "tn_movie_budgets = tn_movie_budgets.astype({'production_budget':'int64', 'domestic_gross':'int64', 'worldwide_gross':'int64'})"
   ]
  },
  {
   "cell_type": "code",
   "execution_count": 19,
   "metadata": {},
   "outputs": [
    {
     "name": "stdout",
     "output_type": "stream",
     "text": [
      "<class 'pandas.core.frame.DataFrame'>\n",
      "RangeIndex: 5782 entries, 0 to 5781\n",
      "Data columns (total 7 columns):\n",
      "id                   5782 non-null int64\n",
      "release_date         5782 non-null object\n",
      "movie                5782 non-null object\n",
      "production_budget    5782 non-null int64\n",
      "domestic_gross       5782 non-null int64\n",
      "worldwide_gross      5782 non-null int64\n",
      "remade               5782 non-null bool\n",
      "dtypes: bool(1), int64(4), object(2)\n",
      "memory usage: 276.8+ KB\n"
     ]
    }
   ],
   "source": [
    "tn_movie_budgets.info()"
   ]
  },
  {
   "cell_type": "markdown",
   "metadata": {},
   "source": [
    "***\n",
    "- [x] first, convert all money columns to ints from objects, \n",
    "- [ ] second, make a new column called ```international_gross``` which is ```worldwide_gross```$-$```domestic_gross```, and\n",
    "- [ ] finally, decide whether or not to drop rows with too many \\$0s.\n",
    "***\n",
    "\n",
    "While we're at it, we might as well make all the columns the appropriate data types..."
   ]
  },
  {
   "cell_type": "code",
   "execution_count": 20,
   "metadata": {},
   "outputs": [],
   "source": [
    "tn_movie_budgets = tn_movie_budgets.astype({'movie':'str'})"
   ]
  },
  {
   "cell_type": "code",
   "execution_count": 21,
   "metadata": {},
   "outputs": [],
   "source": [
    "tn_movie_budgets.release_date = pd.to_datetime(tn_movie_budgets.release_date)"
   ]
  },
  {
   "cell_type": "code",
   "execution_count": 22,
   "metadata": {},
   "outputs": [
    {
     "name": "stdout",
     "output_type": "stream",
     "text": [
      "<class 'pandas.core.frame.DataFrame'>\n",
      "RangeIndex: 5782 entries, 0 to 5781\n",
      "Data columns (total 7 columns):\n",
      "id                   5782 non-null int64\n",
      "release_date         5782 non-null datetime64[ns]\n",
      "movie                5782 non-null object\n",
      "production_budget    5782 non-null int64\n",
      "domestic_gross       5782 non-null int64\n",
      "worldwide_gross      5782 non-null int64\n",
      "remade               5782 non-null bool\n",
      "dtypes: bool(1), datetime64[ns](1), int64(4), object(1)\n",
      "memory usage: 276.8+ KB\n"
     ]
    }
   ],
   "source": [
    "tn_movie_budgets.info()"
   ]
  },
  {
   "cell_type": "markdown",
   "metadata": {},
   "source": [
    "...Okay, back to the business at hand."
   ]
  },
  {
   "cell_type": "code",
   "execution_count": 23,
   "metadata": {},
   "outputs": [],
   "source": [
    "tn_movie_budgets['international_gross'] = tn_movie_budgets['worldwide_gross'] - tn_movie_budgets['domestic_gross']"
   ]
  },
  {
   "cell_type": "markdown",
   "metadata": {},
   "source": [
    "- [x] first, onvert all money columns to ints from objects, \n",
    "- [x] second, make a new column called ```international_gross``` which is ```worldwide_gross```$-$```domestic_gross```, and\n",
    "- [ ] finally, decide whether or not to drop rows with too many \\$0s."
   ]
  },
  {
   "cell_type": "code",
   "execution_count": 24,
   "metadata": {},
   "outputs": [
    {
     "data": {
      "text/plain": [
       "(1619, 8)"
      ]
     },
     "execution_count": 24,
     "metadata": {},
     "output_type": "execute_result"
    }
   ],
   "source": [
    "tn_movie_budgets.loc[tn_movie_budgets.international_gross == 0].shape"
   ]
  },
  {
   "cell_type": "markdown",
   "metadata": {},
   "source": [
    "***\n",
    "Thats a lot of movies with no international gross!\n",
    "\n",
    "Now I'm concerned about movies with no worldwide gross or no domestic gross. \n",
    "Lets see how many of those there are.\n",
    "***"
   ]
  },
  {
   "cell_type": "code",
   "execution_count": 25,
   "metadata": {},
   "outputs": [
    {
     "data": {
      "text/plain": [
       "(548, 8)"
      ]
     },
     "execution_count": 25,
     "metadata": {},
     "output_type": "execute_result"
    }
   ],
   "source": [
    "tn_movie_budgets.loc[(tn_movie_budgets.domestic_gross) == 0].shape"
   ]
  },
  {
   "cell_type": "code",
   "execution_count": 26,
   "metadata": {},
   "outputs": [
    {
     "data": {
      "text/html": [
       "<div>\n",
       "<style scoped>\n",
       "    .dataframe tbody tr th:only-of-type {\n",
       "        vertical-align: middle;\n",
       "    }\n",
       "\n",
       "    .dataframe tbody tr th {\n",
       "        vertical-align: top;\n",
       "    }\n",
       "\n",
       "    .dataframe thead th {\n",
       "        text-align: right;\n",
       "    }\n",
       "</style>\n",
       "<table border=\"1\" class=\"dataframe\">\n",
       "  <thead>\n",
       "    <tr style=\"text-align: right;\">\n",
       "      <th></th>\n",
       "      <th>id</th>\n",
       "      <th>release_date</th>\n",
       "      <th>movie</th>\n",
       "      <th>production_budget</th>\n",
       "      <th>domestic_gross</th>\n",
       "      <th>worldwide_gross</th>\n",
       "      <th>remade</th>\n",
       "      <th>international_gross</th>\n",
       "    </tr>\n",
       "  </thead>\n",
       "  <tbody>\n",
       "    <tr>\n",
       "      <th>194</th>\n",
       "      <td>95</td>\n",
       "      <td>2020-12-31</td>\n",
       "      <td>Moonfall</td>\n",
       "      <td>150000000</td>\n",
       "      <td>0</td>\n",
       "      <td>0</td>\n",
       "      <td>False</td>\n",
       "      <td>0</td>\n",
       "    </tr>\n",
       "    <tr>\n",
       "      <th>479</th>\n",
       "      <td>80</td>\n",
       "      <td>2017-12-13</td>\n",
       "      <td>Bright</td>\n",
       "      <td>90000000</td>\n",
       "      <td>0</td>\n",
       "      <td>0</td>\n",
       "      <td>False</td>\n",
       "      <td>0</td>\n",
       "    </tr>\n",
       "    <tr>\n",
       "      <th>480</th>\n",
       "      <td>81</td>\n",
       "      <td>2019-12-31</td>\n",
       "      <td>Army of the Dead</td>\n",
       "      <td>90000000</td>\n",
       "      <td>0</td>\n",
       "      <td>0</td>\n",
       "      <td>False</td>\n",
       "      <td>0</td>\n",
       "    </tr>\n",
       "    <tr>\n",
       "      <th>535</th>\n",
       "      <td>36</td>\n",
       "      <td>2020-02-21</td>\n",
       "      <td>Call of the Wild</td>\n",
       "      <td>82000000</td>\n",
       "      <td>0</td>\n",
       "      <td>0</td>\n",
       "      <td>False</td>\n",
       "      <td>0</td>\n",
       "    </tr>\n",
       "    <tr>\n",
       "      <th>617</th>\n",
       "      <td>18</td>\n",
       "      <td>2012-12-31</td>\n",
       "      <td>AstÃ©rix et ObÃ©lix: Au service de Sa MajestÃ©</td>\n",
       "      <td>77600000</td>\n",
       "      <td>0</td>\n",
       "      <td>60680125</td>\n",
       "      <td>False</td>\n",
       "      <td>60680125</td>\n",
       "    </tr>\n",
       "  </tbody>\n",
       "</table>\n",
       "</div>"
      ],
      "text/plain": [
       "     id release_date                                           movie  \\\n",
       "194  95   2020-12-31                                        Moonfall   \n",
       "479  80   2017-12-13                                          Bright   \n",
       "480  81   2019-12-31                                Army of the Dead   \n",
       "535  36   2020-02-21                                Call of the Wild   \n",
       "617  18   2012-12-31  AstÃ©rix et ObÃ©lix: Au service de Sa MajestÃ©   \n",
       "\n",
       "     production_budget  domestic_gross  worldwide_gross  remade  \\\n",
       "194          150000000               0                0   False   \n",
       "479           90000000               0                0   False   \n",
       "480           90000000               0                0   False   \n",
       "535           82000000               0                0   False   \n",
       "617           77600000               0         60680125   False   \n",
       "\n",
       "     international_gross  \n",
       "194                    0  \n",
       "479                    0  \n",
       "480                    0  \n",
       "535                    0  \n",
       "617             60680125  "
      ]
     },
     "execution_count": 26,
     "metadata": {},
     "output_type": "execute_result"
    }
   ],
   "source": [
    "tn_movie_budgets.loc[(tn_movie_budgets.domestic_gross) == 0].head()"
   ]
  },
  {
   "cell_type": "code",
   "execution_count": 27,
   "metadata": {},
   "outputs": [
    {
     "data": {
      "text/plain": [
       "(367, 8)"
      ]
     },
     "execution_count": 27,
     "metadata": {},
     "output_type": "execute_result"
    }
   ],
   "source": [
    "tn_movie_budgets.loc[(tn_movie_budgets.worldwide_gross | tn_movie_budgets.domestic_gross) == 0].shape"
   ]
  },
  {
   "cell_type": "code",
   "execution_count": 28,
   "metadata": {},
   "outputs": [
    {
     "data": {
      "text/html": [
       "<div>\n",
       "<style scoped>\n",
       "    .dataframe tbody tr th:only-of-type {\n",
       "        vertical-align: middle;\n",
       "    }\n",
       "\n",
       "    .dataframe tbody tr th {\n",
       "        vertical-align: top;\n",
       "    }\n",
       "\n",
       "    .dataframe thead th {\n",
       "        text-align: right;\n",
       "    }\n",
       "</style>\n",
       "<table border=\"1\" class=\"dataframe\">\n",
       "  <thead>\n",
       "    <tr style=\"text-align: right;\">\n",
       "      <th></th>\n",
       "      <th>id</th>\n",
       "      <th>release_date</th>\n",
       "      <th>movie</th>\n",
       "      <th>production_budget</th>\n",
       "      <th>domestic_gross</th>\n",
       "      <th>worldwide_gross</th>\n",
       "      <th>remade</th>\n",
       "      <th>international_gross</th>\n",
       "    </tr>\n",
       "  </thead>\n",
       "  <tbody>\n",
       "    <tr>\n",
       "      <th>194</th>\n",
       "      <td>95</td>\n",
       "      <td>2020-12-31</td>\n",
       "      <td>Moonfall</td>\n",
       "      <td>150000000</td>\n",
       "      <td>0</td>\n",
       "      <td>0</td>\n",
       "      <td>False</td>\n",
       "      <td>0</td>\n",
       "    </tr>\n",
       "    <tr>\n",
       "      <th>479</th>\n",
       "      <td>80</td>\n",
       "      <td>2017-12-13</td>\n",
       "      <td>Bright</td>\n",
       "      <td>90000000</td>\n",
       "      <td>0</td>\n",
       "      <td>0</td>\n",
       "      <td>False</td>\n",
       "      <td>0</td>\n",
       "    </tr>\n",
       "    <tr>\n",
       "      <th>480</th>\n",
       "      <td>81</td>\n",
       "      <td>2019-12-31</td>\n",
       "      <td>Army of the Dead</td>\n",
       "      <td>90000000</td>\n",
       "      <td>0</td>\n",
       "      <td>0</td>\n",
       "      <td>False</td>\n",
       "      <td>0</td>\n",
       "    </tr>\n",
       "    <tr>\n",
       "      <th>535</th>\n",
       "      <td>36</td>\n",
       "      <td>2020-02-21</td>\n",
       "      <td>Call of the Wild</td>\n",
       "      <td>82000000</td>\n",
       "      <td>0</td>\n",
       "      <td>0</td>\n",
       "      <td>False</td>\n",
       "      <td>0</td>\n",
       "    </tr>\n",
       "    <tr>\n",
       "      <th>670</th>\n",
       "      <td>71</td>\n",
       "      <td>2019-08-30</td>\n",
       "      <td>PLAYMOBIL</td>\n",
       "      <td>75000000</td>\n",
       "      <td>0</td>\n",
       "      <td>0</td>\n",
       "      <td>False</td>\n",
       "      <td>0</td>\n",
       "    </tr>\n",
       "  </tbody>\n",
       "</table>\n",
       "</div>"
      ],
      "text/plain": [
       "     id release_date             movie  production_budget  domestic_gross  \\\n",
       "194  95   2020-12-31          Moonfall          150000000               0   \n",
       "479  80   2017-12-13            Bright           90000000               0   \n",
       "480  81   2019-12-31  Army of the Dead           90000000               0   \n",
       "535  36   2020-02-21  Call of the Wild           82000000               0   \n",
       "670  71   2019-08-30         PLAYMOBIL           75000000               0   \n",
       "\n",
       "     worldwide_gross  remade  international_gross  \n",
       "194                0   False                    0  \n",
       "479                0   False                    0  \n",
       "480                0   False                    0  \n",
       "535                0   False                    0  \n",
       "670                0   False                    0  "
      ]
     },
     "execution_count": 28,
     "metadata": {},
     "output_type": "execute_result"
    }
   ],
   "source": [
    "tn_movie_budgets.loc[(tn_movie_budgets.worldwide_gross | tn_movie_budgets.domestic_gross) == 0].head()"
   ]
  },
  {
   "cell_type": "code",
   "execution_count": 29,
   "metadata": {},
   "outputs": [
    {
     "data": {
      "text/plain": [
       "(181, 8)"
      ]
     },
     "execution_count": 29,
     "metadata": {},
     "output_type": "execute_result"
    }
   ],
   "source": [
    "tn_movie_budgets.loc[(tn_movie_budgets.domestic_gross) == 0].loc[(tn_movie_budgets.worldwide_gross) > 0].shape"
   ]
  },
  {
   "cell_type": "code",
   "execution_count": 30,
   "metadata": {},
   "outputs": [
    {
     "data": {
      "text/html": [
       "<div>\n",
       "<style scoped>\n",
       "    .dataframe tbody tr th:only-of-type {\n",
       "        vertical-align: middle;\n",
       "    }\n",
       "\n",
       "    .dataframe tbody tr th {\n",
       "        vertical-align: top;\n",
       "    }\n",
       "\n",
       "    .dataframe thead th {\n",
       "        text-align: right;\n",
       "    }\n",
       "</style>\n",
       "<table border=\"1\" class=\"dataframe\">\n",
       "  <thead>\n",
       "    <tr style=\"text-align: right;\">\n",
       "      <th></th>\n",
       "      <th>id</th>\n",
       "      <th>release_date</th>\n",
       "      <th>movie</th>\n",
       "      <th>production_budget</th>\n",
       "      <th>domestic_gross</th>\n",
       "      <th>worldwide_gross</th>\n",
       "      <th>remade</th>\n",
       "      <th>international_gross</th>\n",
       "    </tr>\n",
       "  </thead>\n",
       "  <tbody>\n",
       "    <tr>\n",
       "      <th>617</th>\n",
       "      <td>18</td>\n",
       "      <td>2012-12-31</td>\n",
       "      <td>AstÃ©rix et ObÃ©lix: Au service de Sa MajestÃ©</td>\n",
       "      <td>77600000</td>\n",
       "      <td>0</td>\n",
       "      <td>60680125</td>\n",
       "      <td>False</td>\n",
       "      <td>60680125</td>\n",
       "    </tr>\n",
       "    <tr>\n",
       "      <th>619</th>\n",
       "      <td>20</td>\n",
       "      <td>2019-01-22</td>\n",
       "      <td>Renegades</td>\n",
       "      <td>77500000</td>\n",
       "      <td>0</td>\n",
       "      <td>1521672</td>\n",
       "      <td>False</td>\n",
       "      <td>1521672</td>\n",
       "    </tr>\n",
       "    <tr>\n",
       "      <th>820</th>\n",
       "      <td>21</td>\n",
       "      <td>2018-10-26</td>\n",
       "      <td>Air Strike</td>\n",
       "      <td>65000000</td>\n",
       "      <td>0</td>\n",
       "      <td>516279</td>\n",
       "      <td>False</td>\n",
       "      <td>516279</td>\n",
       "    </tr>\n",
       "    <tr>\n",
       "      <th>1325</th>\n",
       "      <td>26</td>\n",
       "      <td>2012-12-31</td>\n",
       "      <td>Foodfight!</td>\n",
       "      <td>45000000</td>\n",
       "      <td>0</td>\n",
       "      <td>73706</td>\n",
       "      <td>False</td>\n",
       "      <td>73706</td>\n",
       "    </tr>\n",
       "    <tr>\n",
       "      <th>1367</th>\n",
       "      <td>68</td>\n",
       "      <td>2006-12-31</td>\n",
       "      <td>Les BronzÃ©s 3: amis pour la vie</td>\n",
       "      <td>42000000</td>\n",
       "      <td>0</td>\n",
       "      <td>83833602</td>\n",
       "      <td>False</td>\n",
       "      <td>83833602</td>\n",
       "    </tr>\n",
       "  </tbody>\n",
       "</table>\n",
       "</div>"
      ],
      "text/plain": [
       "      id release_date                                           movie  \\\n",
       "617   18   2012-12-31  AstÃ©rix et ObÃ©lix: Au service de Sa MajestÃ©   \n",
       "619   20   2019-01-22                                       Renegades   \n",
       "820   21   2018-10-26                                      Air Strike   \n",
       "1325  26   2012-12-31                                      Foodfight!   \n",
       "1367  68   2006-12-31                Les BronzÃ©s 3: amis pour la vie   \n",
       "\n",
       "      production_budget  domestic_gross  worldwide_gross  remade  \\\n",
       "617            77600000               0         60680125   False   \n",
       "619            77500000               0          1521672   False   \n",
       "820            65000000               0           516279   False   \n",
       "1325           45000000               0            73706   False   \n",
       "1367           42000000               0         83833602   False   \n",
       "\n",
       "      international_gross  \n",
       "617              60680125  \n",
       "619               1521672  \n",
       "820                516279  \n",
       "1325                73706  \n",
       "1367             83833602  "
      ]
     },
     "execution_count": 30,
     "metadata": {},
     "output_type": "execute_result"
    }
   ],
   "source": [
    "tn_movie_budgets.loc[(tn_movie_budgets.domestic_gross) == 0].loc[(tn_movie_budgets.worldwide_gross) > 0].head()"
   ]
  },
  {
   "cell_type": "code",
   "execution_count": 31,
   "metadata": {},
   "outputs": [
    {
     "data": {
      "text/plain": [
       "(367, 8)"
      ]
     },
     "execution_count": 31,
     "metadata": {},
     "output_type": "execute_result"
    }
   ],
   "source": [
    "tn_movie_budgets.loc[(tn_movie_budgets.worldwide_gross) == 0].shape"
   ]
  },
  {
   "cell_type": "code",
   "execution_count": 32,
   "metadata": {},
   "outputs": [
    {
     "data": {
      "text/html": [
       "<div>\n",
       "<style scoped>\n",
       "    .dataframe tbody tr th:only-of-type {\n",
       "        vertical-align: middle;\n",
       "    }\n",
       "\n",
       "    .dataframe tbody tr th {\n",
       "        vertical-align: top;\n",
       "    }\n",
       "\n",
       "    .dataframe thead th {\n",
       "        text-align: right;\n",
       "    }\n",
       "</style>\n",
       "<table border=\"1\" class=\"dataframe\">\n",
       "  <thead>\n",
       "    <tr style=\"text-align: right;\">\n",
       "      <th></th>\n",
       "      <th>id</th>\n",
       "      <th>release_date</th>\n",
       "      <th>movie</th>\n",
       "      <th>production_budget</th>\n",
       "      <th>domestic_gross</th>\n",
       "      <th>worldwide_gross</th>\n",
       "      <th>remade</th>\n",
       "      <th>international_gross</th>\n",
       "    </tr>\n",
       "  </thead>\n",
       "  <tbody>\n",
       "    <tr>\n",
       "      <th>194</th>\n",
       "      <td>95</td>\n",
       "      <td>2020-12-31</td>\n",
       "      <td>Moonfall</td>\n",
       "      <td>150000000</td>\n",
       "      <td>0</td>\n",
       "      <td>0</td>\n",
       "      <td>False</td>\n",
       "      <td>0</td>\n",
       "    </tr>\n",
       "    <tr>\n",
       "      <th>479</th>\n",
       "      <td>80</td>\n",
       "      <td>2017-12-13</td>\n",
       "      <td>Bright</td>\n",
       "      <td>90000000</td>\n",
       "      <td>0</td>\n",
       "      <td>0</td>\n",
       "      <td>False</td>\n",
       "      <td>0</td>\n",
       "    </tr>\n",
       "    <tr>\n",
       "      <th>480</th>\n",
       "      <td>81</td>\n",
       "      <td>2019-12-31</td>\n",
       "      <td>Army of the Dead</td>\n",
       "      <td>90000000</td>\n",
       "      <td>0</td>\n",
       "      <td>0</td>\n",
       "      <td>False</td>\n",
       "      <td>0</td>\n",
       "    </tr>\n",
       "    <tr>\n",
       "      <th>535</th>\n",
       "      <td>36</td>\n",
       "      <td>2020-02-21</td>\n",
       "      <td>Call of the Wild</td>\n",
       "      <td>82000000</td>\n",
       "      <td>0</td>\n",
       "      <td>0</td>\n",
       "      <td>False</td>\n",
       "      <td>0</td>\n",
       "    </tr>\n",
       "    <tr>\n",
       "      <th>670</th>\n",
       "      <td>71</td>\n",
       "      <td>2019-08-30</td>\n",
       "      <td>PLAYMOBIL</td>\n",
       "      <td>75000000</td>\n",
       "      <td>0</td>\n",
       "      <td>0</td>\n",
       "      <td>False</td>\n",
       "      <td>0</td>\n",
       "    </tr>\n",
       "  </tbody>\n",
       "</table>\n",
       "</div>"
      ],
      "text/plain": [
       "     id release_date             movie  production_budget  domestic_gross  \\\n",
       "194  95   2020-12-31          Moonfall          150000000               0   \n",
       "479  80   2017-12-13            Bright           90000000               0   \n",
       "480  81   2019-12-31  Army of the Dead           90000000               0   \n",
       "535  36   2020-02-21  Call of the Wild           82000000               0   \n",
       "670  71   2019-08-30         PLAYMOBIL           75000000               0   \n",
       "\n",
       "     worldwide_gross  remade  international_gross  \n",
       "194                0   False                    0  \n",
       "479                0   False                    0  \n",
       "480                0   False                    0  \n",
       "535                0   False                    0  \n",
       "670                0   False                    0  "
      ]
     },
     "execution_count": 32,
     "metadata": {},
     "output_type": "execute_result"
    }
   ],
   "source": [
    "tn_movie_budgets.loc[(tn_movie_budgets.worldwide_gross) == 0].head()"
   ]
  },
  {
   "cell_type": "markdown",
   "metadata": {},
   "source": [
    "There are 548 movies with 0 dollars in ```domestic_gross```.\n",
    "Of those movies, 181 have ```international_gross``` (maybe were only released internationally), and the other 367 have no ```domestic_gross``` or ```international_gross```. \n",
    "We think these 367 movies were released online only, which means they are of particular interest to our analysis!\n",
    "***\n",
    "So we are deciding to keep all of our data:\n",
    "- [x] first, onvert all money columns to ints from objects, \n",
    "- [x] second, make a new column called ```international_gross``` which is ```worldwide_gross```$-$```domestic_gross```, and\n",
    "- [x] finally, decide whether or not to drop rows with too many \\$0s.\n",
    "\n",
    "\n",
    "We are also deciding to compare the set of data we think are online releases to the data we think are not. \n",
    "Let's create a new column to mark their differences, then continue cleaning the data by isolating the released between 2010 and 2018."
   ]
  },
  {
   "cell_type": "code",
   "execution_count": 33,
   "metadata": {},
   "outputs": [],
   "source": [
    "tn_movie_budgets['online_release'] = tn_movie_budgets.worldwide_gross.map(lambda x: x==0)"
   ]
  },
  {
   "cell_type": "markdown",
   "metadata": {},
   "source": [
    "***\n",
    "### Get rid of movies not released between 2010 and 2018\n",
    "This is just a requirement of the project.\n",
    "***"
   ]
  },
  {
   "cell_type": "code",
   "execution_count": 34,
   "metadata": {},
   "outputs": [],
   "source": [
    "tn_movie_budgets['release_year'] = tn_movie_budgets.release_date.map(lambda x: x.year)"
   ]
  },
  {
   "cell_type": "code",
   "execution_count": 35,
   "metadata": {},
   "outputs": [],
   "source": [
    "recent_tn_movie_budgets = tn_movie_budgets.loc[(2010<=tn_movie_budgets['release_year']) & (tn_movie_budgets['release_year']<=2018)]"
   ]
  },
  {
   "cell_type": "code",
   "execution_count": 36,
   "metadata": {},
   "outputs": [
    {
     "data": {
      "text/plain": [
       "False    1873\n",
       "True      251\n",
       "Name: online_release, dtype: int64"
      ]
     },
     "execution_count": 36,
     "metadata": {},
     "output_type": "execute_result"
    }
   ],
   "source": [
    "recent_tn_movie_budgets.online_release.value_counts()"
   ]
  },
  {
   "cell_type": "markdown",
   "metadata": {},
   "source": [
    "***\n",
    "## Step 2 Summary:\n",
    "\n",
    "We think we can identify online releases, but no garbarge data or rows to drop. \n",
    "There are still 251 online releases and 1873 box office releases; enough to perform some analysis.\n",
    "***"
   ]
  },
  {
   "cell_type": "markdown",
   "metadata": {},
   "source": [
    "### Clean imdb_name_basics_df"
   ]
  },
  {
   "cell_type": "code",
   "execution_count": null,
   "metadata": {},
   "outputs": [],
   "source": [
    "imdb_name_basics = pd.read_csv('data/imdb.name.basics.csv.gz')\n",
    "imdb_name_basics.head()"
   ]
  },
  {
   "cell_type": "markdown",
   "metadata": {},
   "source": [
    "Split values in 'known_for_titles' column "
   ]
  },
  {
   "cell_type": "code",
   "execution_count": null,
   "metadata": {},
   "outputs": [],
   "source": [
    "knownfor_expand = imdb_name_basics.known_for_titles.str.split(\",\", expand=True)"
   ]
  },
  {
   "cell_type": "markdown",
   "metadata": {},
   "source": [
    "Expand Titles"
   ]
  },
  {
   "cell_type": "code",
   "execution_count": null,
   "metadata": {},
   "outputs": [],
   "source": [
    "# expand titles \n",
    "imdb_name_basics['known_for_titles_1'] = knownfor_expand[0]\n",
    "imdb_name_basics['known_for_titles_2'] = knownfor_expand[1]\n",
    "imdb_name_basics['known_for_titles_3'] = knownfor_expand[2]\n",
    "imdb_name_basics['known_for_titles_4'] = knownfor_expand[3]\n",
    "imdb_name_basics['known_for_titles_5'] = knownfor_expand[4]\n",
    "imdb_name_basics['known_for_titles_6'] = knownfor_expand[5]"
   ]
  },
  {
   "cell_type": "markdown",
   "metadata": {},
   "source": [
    "Change dataframe format from wide to long so that the key column changes from 'primary_name' to 'tconst'    "
   ]
  },
  {
   "cell_type": "code",
   "execution_count": null,
   "metadata": {},
   "outputs": [],
   "source": [
    "# drop unecessary colums. Only interested in name, primary profession and nconst\n",
    "imdb_names_small = imdb_name_basics\n",
    "imdb_names_small = imdb_names_small.drop(['birth_year', \n",
    "                                          'death_year', \n",
    "                                          'known_for_titles'], \n",
    "                                         axis=1)"
   ]
  },
  {
   "cell_type": "code",
   "execution_count": null,
   "metadata": {},
   "outputs": [],
   "source": [
    "# melt dataframe to change the shape \n",
    "imdb_names_melt = pd.melt(imdb_names_small, \n",
    "                          id_vars =['primary_name', \n",
    "                                    'nconst', \n",
    "                                    'primary_profession'], \n",
    "                          value_vars =['known_for_titles_1', \n",
    "                                       'known_for_titles_2', \n",
    "                                       'known_for_titles_3', \n",
    "                                       'known_for_titles_4',\n",
    "                                       'known_for_titles_5', \n",
    "                                       'known_for_titles_6'])"
   ]
  },
  {
   "cell_type": "code",
   "execution_count": null,
   "metadata": {},
   "outputs": [],
   "source": [
    "# drop variable and reset index and rename variable\n",
    "imdb_names_melt.drop('variable', inplace=True, axis=1)\n",
    "imdb_names_melt.dropna(inplace=True)\n",
    "imdb_names_melt.reset_index(inplace=True)\n",
    "imdb_names_melt.drop('index', axis=1, inplace=True)\n",
    "imdb_names_melt.rename(columns={'value': 'movie_titles'}, inplace=True)"
   ]
  },
  {
   "cell_type": "code",
   "execution_count": null,
   "metadata": {},
   "outputs": [],
   "source": [
    "imdb_names_melt.rename(columns={'movie_titles': 'tconst'}, inplace=True)\n",
    "imdb_names_melt.set_index('tconst', inplace=True)\n",
    "imdb_names_melt.head()"
   ]
  },
  {
   "cell_type": "code",
   "execution_count": null,
   "metadata": {},
   "outputs": [],
   "source": [
    "# export file\n",
    "# imdb_names_melt.to_csv('data/imdb_names_update')"
   ]
  },
  {
   "cell_type": "markdown",
   "metadata": {},
   "source": [
    "### Clean imdb_title_basics_df"
   ]
  },
  {
   "cell_type": "code",
   "execution_count": null,
   "metadata": {},
   "outputs": [],
   "source": [
    "imdb_title_basics = pd.read_csv('data/imdb.title.basics.csv.gz')\n",
    "imdb_title_basics = imdb_title_basics.loc[imdb_title_basics['start_year'] < 2019] # restrict movies between 2010-2018\n",
    "imdb_title_basics.head(7)"
   ]
  },
  {
   "cell_type": "code",
   "execution_count": null,
   "metadata": {},
   "outputs": [],
   "source": [
    "imdb_gen_expand = imdb_title_basics.genres.str.split(\",\", expand=True)"
   ]
  },
  {
   "cell_type": "code",
   "execution_count": null,
   "metadata": {},
   "outputs": [],
   "source": [
    "imdb_title_basics['genres_1']=imdb_gen_expand[0]\n",
    "imdb_title_basics['genres_2']=imdb_gen_expand[1]\n",
    "imdb_title_basics['genres_3']=imdb_gen_expand[2]\n",
    "#imdb_title_basics.drop('genres', axis=1, inplace=True)"
   ]
  },
  {
   "cell_type": "code",
   "execution_count": null,
   "metadata": {},
   "outputs": [],
   "source": [
    "imdb_title_basics.set_index('tconst', inplace=True)"
   ]
  },
  {
   "cell_type": "code",
   "execution_count": null,
   "metadata": {},
   "outputs": [],
   "source": [
    "# imdb_title_basics.to_csv('data/imdb_titles')"
   ]
  },
  {
   "cell_type": "markdown",
   "metadata": {},
   "source": [
    "### Clean imdb_title_principals_df & imdb_title_ratings_df"
   ]
  },
  {
   "cell_type": "markdown",
   "metadata": {},
   "source": [
    "No cleaning required for these two datasets"
   ]
  },
  {
   "cell_type": "markdown",
   "metadata": {},
   "source": [
    "# Step 3: Exploratory Data Analysis\n",
    "***"
   ]
  },
  {
   "cell_type": "code",
   "execution_count": null,
   "metadata": {},
   "outputs": [],
   "source": [
    "# Import Clean Datasets\n",
    "imdb_names = pd.read_csv('data/imdb_names_update', index_col='tconst')\n",
    "imdb_titles = pd.read_csv('data/imdb_titles', index_col='tconst')\n",
    "imdb_tn_budgets = pd.read_csv('data/tn_movies_bud_update')\n",
    "imdb_title_principals_df = pd.read_csv('data/imdb.title.principals.csv.gz')\n",
    "imdb_ratings = pd.read_csv('data/imdb.title.ratings.csv.gz')"
   ]
  },
  {
   "cell_type": "code",
   "execution_count": null,
   "metadata": {},
   "outputs": [],
   "source": [
    "# Drop 'unnamed: 0' column from tn_movie_budget dataframe\n",
    "imdb_tn_budgets.drop('Unnamed: 0', axis=1, inplace=True)"
   ]
  },
  {
   "cell_type": "code",
   "execution_count": null,
   "metadata": {},
   "outputs": [],
   "source": [
    "# change index to tconst variable \n",
    "imdb_title_principals_df.set_index('tconst', inplace=True)"
   ]
  },
  {
   "cell_type": "markdown",
   "metadata": {},
   "source": [
    "#### Join imdb_titles and imdb_names dataframes"
   ]
  },
  {
   "cell_type": "code",
   "execution_count": null,
   "metadata": {},
   "outputs": [],
   "source": [
    "imdb_titles_names = imdb_titles.join(imdb_title_principals_df, how='inner')\n",
    "imdb_titles_names.head()"
   ]
  },
  {
   "cell_type": "code",
   "execution_count": null,
   "metadata": {},
   "outputs": [],
   "source": [
    "# reset index \n",
    "imdb_titles_names.reset_index(inplace=True)"
   ]
  },
  {
   "cell_type": "code",
   "execution_count": null,
   "metadata": {},
   "outputs": [],
   "source": [
    "# create directors only dataset\n",
    "imdb_title_name_directors = imdb_titles_names[imdb_titles_names['category']=='director']"
   ]
  },
  {
   "cell_type": "code",
   "execution_count": null,
   "metadata": {},
   "outputs": [],
   "source": [
    "# check hed of new directors only dataset\n",
    "imdb_title_name_directors.head()"
   ]
  },
  {
   "cell_type": "markdown",
   "metadata": {},
   "source": [
    "#### Join imdb_titles_names dataframe with imdb_ratings"
   ]
  },
  {
   "cell_type": "code",
   "execution_count": null,
   "metadata": {},
   "outputs": [],
   "source": [
    "# reset index for both ratings and directors only dataset\n",
    "imdb_ratings.set_index('tconst', inplace=True)\n",
    "imdb_title_name_directors.set_index('tconst', inplace=True)"
   ]
  },
  {
   "cell_type": "code",
   "execution_count": null,
   "metadata": {},
   "outputs": [],
   "source": [
    "# join datasets\n",
    "imdb_title_ratings = imdb_title_name_directors.join(imdb_ratings, \n",
    "                              how='inner')"
   ]
  },
  {
   "cell_type": "markdown",
   "metadata": {},
   "source": [
    "### Data Visualization"
   ]
  },
  {
   "cell_type": "markdown",
   "metadata": {},
   "source": [
    "#### Anlysis on movie genres"
   ]
  },
  {
   "cell_type": "code",
   "execution_count": null,
   "metadata": {},
   "outputs": [],
   "source": [
    "# check the number of genres in the dataset\n",
    "imdb_title_ratings.genres_1.value_counts()"
   ]
  },
  {
   "cell_type": "code",
   "execution_count": null,
   "metadata": {},
   "outputs": [],
   "source": [
    "# create directors only dataset\n",
    "imdb_title_name_directors = imdb_titles_names[imdb_titles_names['category']=='director']"
   ]
  },
  {
   "cell_type": "code",
   "execution_count": null,
   "metadata": {},
   "outputs": [],
   "source": [
    "imdb_title_ratings.reset_index(inplace=True)"
   ]
  },
  {
   "cell_type": "code",
   "execution_count": null,
   "metadata": {},
   "outputs": [],
   "source": [
    "# look at the median IMDB ratings value for all genres\n",
    "imdb_title_ratings.groupby('genres_1').median().sort_values('averagerating')"
   ]
  },
  {
   "cell_type": "code",
   "execution_count": null,
   "metadata": {
    "scrolled": true
   },
   "outputs": [],
   "source": [
    "# create a data visualization to show median IMDB rating for all genres\n",
    "sns.set_context('notebook')\n",
    "g2 = sns.relplot(y='averagerating', \n",
    "            x='numvotes', \n",
    "            kind='scatter', \n",
    "            hue='genres_1',\n",
    "            col='genres_1', \n",
    "            col_wrap=4,\n",
    "            height=3,\n",
    "           data=imdb_title_ratings, \n",
    "           legend=None)\n",
    "\n",
    "axes2 = g2.axes.flatten()\n",
    "\n",
    "# axes2[0].set_title(\"Internal\")\n",
    "# axes2[1].set_title(\"Internal\")\n",
    "# axes2[6].set_title(\"Internal\")\n",
    "\n",
    "for ax2 in axes2: \n",
    "    ax2.set_ylabel(\"Average Movie Rating (IMDB)\")\n",
    "\n",
    "for ax1 in axes2:\n",
    "    ax1.set_xlabel(\"Number of Votes\")\n",
    "\n",
    "    \n",
    "# g2.savefig('/Users/markishab/Downloads/fig_genres_pop.png')"
   ]
  },
  {
   "cell_type": "code",
   "execution_count": null,
   "metadata": {},
   "outputs": [],
   "source": [
    "# Choose non-trivial catagories to perform analysis on \n",
    "imdb_genre_set = imdb_title_ratings.loc[(imdb_title_ratings['genres_1']!='Documentary') &\n",
    "                                        (imdb_title_ratings['genres_1']!='Mystery') &\n",
    "                                        (imdb_title_ratings['genres_1']!='Romance') &\n",
    "                                        (imdb_title_ratings['genres_1']!='History') &\n",
    "                                        (imdb_title_ratings['genres_1']!='Famiily') &\n",
    "                                        (imdb_title_ratings['genres_1']!='Music') &\n",
    "                                        (imdb_title_ratings['genres_1']!='Musical')]"
   ]
  },
  {
   "cell_type": "code",
   "execution_count": null,
   "metadata": {},
   "outputs": [],
   "source": [
    "# create a column of boolean value for weather the row is any of three values \n",
    "imdb_genre_set['color'] = np.where((imdb_genre_set['genres_1']=='Biography') | \n",
    "                                   (imdb_genre_set['genres_1']=='Animation') |\n",
    "                                   (imdb_genre_set['genres_1']=='Adventure'), '1', '0')"
   ]
  },
  {
   "cell_type": "code",
   "execution_count": null,
   "metadata": {},
   "outputs": [],
   "source": [
    "color_palette = ['#737373', '#FFB900']\n",
    "plt.figure(figsize=(15,10))\n",
    "sns.set_context('poster')\n",
    "sns.boxplot(x='averagerating',\n",
    "            y='genres_1', \n",
    "            order=(['Biography', 'Animation', 'Adventure', 'Comedy', 'Crime', \n",
    "                    'Drama', 'Action', 'Fantasy', 'Family', 'Horror']),\n",
    "           data=imdb_genre_set, \n",
    "                hue='color',\n",
    "                 palette=color_palette)\n",
    "plt.title(\"AVERAGE MOVIE RATINGS BY GENRE\", loc='center', y=1.08, fontweight=\"bold\")\n",
    "plt.xlabel('Average Movie Rating (IMDB)')\n",
    "plt.ylabel('Movie Genres')\n",
    "plt.legend(loc=False)\n",
    "plt.legend().remove()\n",
    "sns.despine()\n",
    "# plt.savefig('/Users/markishab/Downloads/fig_genres.png')"
   ]
  },
  {
   "cell_type": "markdown",
   "metadata": {},
   "source": [
    "#### Analysis on directors"
   ]
  },
  {
   "cell_type": "code",
   "execution_count": null,
   "metadata": {},
   "outputs": [],
   "source": [
    "imdb_title_ratings[imdb_title_ratings['category']=='director']"
   ]
  },
  {
   "cell_type": "code",
   "execution_count": null,
   "metadata": {},
   "outputs": [],
   "source": [
    "# find the average movie rating by director. This is one of the summary tables\n",
    "avg_ratings_director = imdb_title_ratings.groupby(['nconst', 'category']).mean().sort_values(by='averagerating'\n",
    "                                                          , ascending=False).drop(['start_year', \n",
    "                                                                                   'runtime_minutes', \n",
    "                                                                                  'numvotes'], axis=1)\n",
    "avg_ratings_director.head()"
   ]
  },
  {
   "cell_type": "code",
   "execution_count": null,
   "metadata": {},
   "outputs": [],
   "source": [
    "# reset index \n",
    "avg_ratings_director.reset_index(inplace=True)\n",
    "avg_ratings_director.set_index('nconst', inplace=True)\n",
    "# avg_ratings_director.drop('index')"
   ]
  },
  {
   "cell_type": "code",
   "execution_count": null,
   "metadata": {},
   "outputs": [],
   "source": [
    "# create a new dataframe for number of movies\n",
    "number_movies = imdb_title_ratings.nconst.value_counts().to_frame()"
   ]
  },
  {
   "cell_type": "code",
   "execution_count": null,
   "metadata": {},
   "outputs": [],
   "source": [
    "# rename column to number of movies\n",
    "number_movies.rename(columns={'nconst':'num_movies'}, inplace=True)"
   ]
  },
  {
   "cell_type": "code",
   "execution_count": null,
   "metadata": {},
   "outputs": [],
   "source": [
    "# join avg_ratings_directors and number_movies dataframe\n",
    "director_scatter = avg_ratings_director.join(number_movies, \n",
    "                         how='right')"
   ]
  },
  {
   "cell_type": "code",
   "execution_count": null,
   "metadata": {},
   "outputs": [],
   "source": [
    "# reset index and take a look at the new dataframe\n",
    "director_scatter.reset_index(inplace=True)\n",
    "director_scatter.head()"
   ]
  },
  {
   "cell_type": "code",
   "execution_count": null,
   "metadata": {},
   "outputs": [],
   "source": [
    "# create dataframe with only prolific directors \n",
    "director_prolific_df = director_scatter[director_scatter['num_movies']>4].sort_values('averagerating', ascending=False)\n",
    "director_prolific_df.reset_index(inplace=True)"
   ]
  },
  {
   "cell_type": "code",
   "execution_count": null,
   "metadata": {},
   "outputs": [],
   "source": [
    "# drop index\n",
    "director_prolific_df.drop('index', inplace=True, axis=1)"
   ]
  },
  {
   "cell_type": "code",
   "execution_count": null,
   "metadata": {},
   "outputs": [],
   "source": [
    "# restrict to top 20 directors\n",
    "director_prolific_df2 = director_prolific_df.head(20)"
   ]
  },
  {
   "cell_type": "code",
   "execution_count": null,
   "metadata": {},
   "outputs": [],
   "source": [
    "# create new dataframe with top rated movies from prolific directors\n",
    "director_prolific_movies = imdb_title_ratings[(imdb_title_ratings['nconst']=='nm3167849') |\n",
    "                  (imdb_title_ratings['nconst']=='nm2223858') |\n",
    "                  (imdb_title_ratings['nconst']=='nm0517665') |\n",
    "                  (imdb_title_ratings['nconst']=='nm1126245') |\n",
    "                  (imdb_title_ratings['nconst']=='nm1103151') |\n",
    "                  (imdb_title_ratings['nconst']=='nm0926911') |\n",
    "                  (imdb_title_ratings['nconst']=='nm2050348') |\n",
    "                  (imdb_title_ratings['nconst']=='nm2833230') |\n",
    "                  (imdb_title_ratings['nconst']=='nm1006692') |\n",
    "                  (imdb_title_ratings['nconst']=='nm1355731') |\n",
    "                  (imdb_title_ratings['nconst']=='nm2611428')].sort_values('nconst')"
   ]
  },
  {
   "cell_type": "code",
   "execution_count": null,
   "metadata": {},
   "outputs": [],
   "source": [
    "# create dataframe with highest movie rating for eadh director between 2010 and 2018\n",
    "director_rating_max = director_prolific_movies.groupby('nconst').max()\n",
    "director_rating_max.reset_index(inplace=True)\n",
    "director_rating_max.head()"
   ]
  },
  {
   "cell_type": "code",
   "execution_count": null,
   "metadata": {},
   "outputs": [],
   "source": [
    "# create dataframe with lowest movie rating for eadh director between 2010 and 2018\n",
    "director_rating_min = director_prolific_movies.groupby('nconst').min()\n",
    "director_rating_min.reset_index(inplace=True)\n",
    "director_rating_min.head()"
   ]
  },
  {
   "cell_type": "code",
   "execution_count": null,
   "metadata": {},
   "outputs": [],
   "source": [
    "## Source: https://python-graph-gallery.com/184-lollipop-plot-with-2-groups/\n",
    "sns.set_context('poster')\n",
    "plt.figure(figsize=(15,10))\n",
    "my_range=range(1,len(director_rating_max.index)+1)\n",
    "\n",
    "plt.hlines(y=my_range, xmin=director_rating_min['averagerating'], \n",
    "           xmax=director_rating_max['averagerating'], color='grey', alpha=0.4)\n",
    "plt.scatter(director_rating_min['averagerating'], my_range, color='#FFB900', alpha=1, label='Lowest IMDB Rating')\n",
    "plt.scatter(director_rating_max['averagerating'], my_range, color='#737373', alpha=1 , label='Highest IMDB Rating')\n",
    "plt.legend()\n",
    "sns.despine()\n",
    "\n",
    "# Add title and axis names\n",
    "plt.yticks(my_range, director_rating_max['nconst'])\n",
    "plt.title(\"Movie rating range by director between 2010 and 2018\", loc='left', y=1.08, fontweight=\"bold\")\n",
    "plt.xlabel('IMDB Movie Rating Range')\n",
    "plt.ylabel('Directors')\n",
    "# labels=['Yasmine Asha', 'Nick Rosen', 'Dawn Gifford Engle', 'Steve Ravic', \n",
    "#  'Peter Mortimer', 'Josh Lowell', 'Branko Istvancic', 'Carlos Nader', \n",
    "#  'Dick Carruthers', 'Nick Wickham', 'Tom Logan']\n",
    "\n",
    "# plt.set_yticklabels(labels=labels)\n",
    "\n",
    "plt.savefig('/Users/markishab/Downloads/fig_directors_prolific.png')"
   ]
  }
 ],
 "metadata": {
  "kernelspec": {
   "display_name": "Python 3",
   "language": "python",
   "name": "python3"
  },
  "language_info": {
   "codemirror_mode": {
    "name": "ipython",
    "version": 3
   },
   "file_extension": ".py",
   "mimetype": "text/x-python",
   "name": "python",
   "nbconvert_exporter": "python",
   "pygments_lexer": "ipython3",
   "version": "3.7.3"
  }
 },
 "nbformat": 4,
 "nbformat_minor": 2
}
